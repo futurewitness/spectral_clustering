{
 "cells": [
  {
   "cell_type": "markdown",
   "metadata": {},
   "source": [
    "# Julia code for Lecture 31"
   ]
  },
  {
   "cell_type": "markdown",
   "metadata": {},
   "source": [
    "## Perspective rendering.\n",
    "\n",
    "Start with a matrix $P$.  Each column is a point is $R^3$.  Each point is on an edge of the box (rectangular prism) with corners $(1,1,5), (4,1,5), (1,2,5), (4,2,5), (1,1,7), (4, 1, 7), (1,2,7), (4,2,7)$."
   ]
  },
  {
   "cell_type": "code",
   "execution_count": 1,
   "metadata": {},
   "outputs": [
    {
     "data": {
      "text/plain": [
       "3×24 Array{Int64,2}:\n",
       " 1  2  3  4  1  2  3  4  1  2  3  4  1  2  3  4  1  2  3  4  1  2  3  4\n",
       " 1  1  1  1  2  2  2  2  1  1  1  1  2  2  2  2  1  1  1  1  2  2  2  2\n",
       " 5  5  5  5  5  5  5  5  6  6  6  6  6  6  6  6  7  7  7  7  7  7  7  7"
      ]
     },
     "execution_count": 1,
     "metadata": {},
     "output_type": "execute_result"
    }
   ],
   "source": [
    "P = [1 2 3 4 1 2 3 4 1 2 3 4 1 2 3 4 1 2 3 4 1 2 3 4 ; 1 1 1 1 2 2 2 2 1 1 1 1 2 2 2 2 1 1 1 1 2 2 2 2 ; 5 5 5 5 5 5 5 5 6 6 6 6 6 6 6 6 7 7 7 7 7 7 7 7]"
   ]
  },
  {
   "cell_type": "markdown",
   "metadata": {},
   "source": [
    "$n$ is the number of points we are plotting (number of columns in $P$.)"
   ]
  },
  {
   "cell_type": "code",
   "execution_count": 2,
   "metadata": {},
   "outputs": [
    {
     "data": {
      "text/plain": [
       "24"
      ]
     },
     "execution_count": 2,
     "metadata": {},
     "output_type": "execute_result"
    }
   ],
   "source": [
    "n = size(P,2)"
   ]
  },
  {
   "cell_type": "markdown",
   "metadata": {},
   "source": [
    "We create a basis and matrix $A$ for camera coordinates. (Camera center is one unit behind upper left corner of image plane ($a_3 = (0,0,1)$), each pixel is 1/100 units on each side: $a_1 = (.01,0,0)$, $a_2 = (0,.01,0)$"
   ]
  },
  {
   "cell_type": "code",
   "execution_count": 3,
   "metadata": {
    "scrolled": true
   },
   "outputs": [
    {
     "data": {
      "text/plain": [
       "3-element Array{Float64,1}:\n",
       " 0.01\n",
       " 0.0 \n",
       " 0.0 "
      ]
     },
     "execution_count": 3,
     "metadata": {},
     "output_type": "execute_result"
    }
   ],
   "source": [
    "a1 = [.01 ; 0 ; 0]"
   ]
  },
  {
   "cell_type": "code",
   "execution_count": 4,
   "metadata": {},
   "outputs": [
    {
     "data": {
      "text/plain": [
       "3-element Array{Float64,1}:\n",
       " 0.0 \n",
       " 0.01\n",
       " 0.0 "
      ]
     },
     "execution_count": 4,
     "metadata": {},
     "output_type": "execute_result"
    }
   ],
   "source": [
    "a2 = [0 ; .01 ; 0]"
   ]
  },
  {
   "cell_type": "code",
   "execution_count": 5,
   "metadata": {},
   "outputs": [
    {
     "data": {
      "text/plain": [
       "3-element Array{Int64,1}:\n",
       " 0\n",
       " 0\n",
       " 1"
      ]
     },
     "execution_count": 5,
     "metadata": {},
     "output_type": "execute_result"
    }
   ],
   "source": [
    "a3 = [0 ; 0 ; 1]"
   ]
  },
  {
   "cell_type": "code",
   "execution_count": 6,
   "metadata": {},
   "outputs": [
    {
     "data": {
      "text/plain": [
       "3×3 Array{Float64,2}:\n",
       " 0.01  0.0   0.0\n",
       " 0.0   0.01  0.0\n",
       " 0.0   0.0   1.0"
      ]
     },
     "execution_count": 6,
     "metadata": {},
     "output_type": "execute_result"
    }
   ],
   "source": [
    "A = [a1 a2 a3]"
   ]
  },
  {
   "cell_type": "code",
   "execution_count": 7,
   "metadata": {},
   "outputs": [
    {
     "data": {
      "text/plain": [
       "3×3 Array{Float64,2}:\n",
       " 100.0    0.0  0.0\n",
       "   0.0  100.0  0.0\n",
       "   0.0    0.0  1.0"
      ]
     },
     "execution_count": 7,
     "metadata": {},
     "output_type": "execute_result"
    }
   ],
   "source": [
    "inv(A)"
   ]
  },
  {
   "cell_type": "markdown",
   "metadata": {},
   "source": [
    "the Matrix $CamP = A^{-1}P$ contains the points in camera coordinates"
   ]
  },
  {
   "cell_type": "code",
   "execution_count": 8,
   "metadata": {},
   "outputs": [
    {
     "data": {
      "text/plain": [
       "3×24 Array{Float64,2}:\n",
       " 100.0  200.0  300.0  400.0  100.0  …  400.0  100.0  200.0  300.0  400.0\n",
       " 100.0  100.0  100.0  100.0  200.0     100.0  200.0  200.0  200.0  200.0\n",
       "   5.0    5.0    5.0    5.0    5.0       7.0    7.0    7.0    7.0    7.0"
      ]
     },
     "execution_count": 8,
     "metadata": {},
     "output_type": "execute_result"
    }
   ],
   "source": [
    "CamP = inv(A) * P"
   ]
  },
  {
   "cell_type": "markdown",
   "metadata": {},
   "source": [
    "Project each point in $CamP = A^{-1}P$ to image plane by scaling by the third coordinate."
   ]
  },
  {
   "cell_type": "code",
   "execution_count": 9,
   "metadata": {},
   "outputs": [
    {
     "data": {
      "text/plain": [
       "2×24 Array{Float64,2}:\n",
       " 20.0  40.0  60.0  80.0  20.0  40.0  …  14.2857  28.5714  42.8571  57.1429\n",
       " 20.0  20.0  20.0  20.0  40.0  40.0     28.5714  28.5714  28.5714  28.5714"
      ]
     },
     "execution_count": 9,
     "metadata": {},
     "output_type": "execute_result"
    }
   ],
   "source": [
    "Q = [CamP[i,j]/CamP[3,j] for i = 1:2, j = 1:n]  "
   ]
  },
  {
   "cell_type": "code",
   "execution_count": 10,
   "metadata": {},
   "outputs": [
    {
     "data": {
      "image/svg+xml": [
       "<?xml version=\"1.0\" encoding=\"utf-8\"?>\n",
       "<svg xmlns=\"http://www.w3.org/2000/svg\" xmlns:xlink=\"http://www.w3.org/1999/xlink\" width=\"600\" height=\"400\" viewBox=\"0 0 2400 1600\">\n",
       "<defs>\n",
       "  <clipPath id=\"clip3400\">\n",
       "    <rect x=\"0\" y=\"0\" width=\"2000\" height=\"2000\"/>\n",
       "  </clipPath>\n",
       "</defs>\n",
       "<defs>\n",
       "  <clipPath id=\"clip3401\">\n",
       "    <rect x=\"0\" y=\"0\" width=\"2400\" height=\"1600\"/>\n",
       "  </clipPath>\n",
       "</defs>\n",
       "<polygon clip-path=\"url(#clip3401)\" points=\"\n",
       "0,1600 2400,1600 2400,0 0,0 \n",
       "  \" fill=\"#ffffff\" fill-rule=\"evenodd\" fill-opacity=\"1\"/>\n",
       "<defs>\n",
       "  <clipPath id=\"clip3402\">\n",
       "    <rect x=\"480\" y=\"0\" width=\"1681\" height=\"1600\"/>\n",
       "  </clipPath>\n",
       "</defs>\n",
       "<polygon clip-path=\"url(#clip3401)\" points=\"\n",
       "533.957,1503.47 1990.19,1503.47 1990.19,47.2441 533.957,47.2441 \n",
       "  \" fill=\"#ffffff\" fill-rule=\"evenodd\" fill-opacity=\"1\"/>\n",
       "<defs>\n",
       "  <clipPath id=\"clip3403\">\n",
       "    <rect x=\"533\" y=\"47\" width=\"1457\" height=\"1457\"/>\n",
       "  </clipPath>\n",
       "</defs>\n",
       "<polyline clip-path=\"url(#clip3403)\" style=\"stroke:#000000; stroke-width:2; stroke-opacity:0.1; fill:none\" points=\"\n",
       "  533.957,1503.47 533.957,47.2441 \n",
       "  \"/>\n",
       "<polyline clip-path=\"url(#clip3403)\" style=\"stroke:#000000; stroke-width:2; stroke-opacity:0.1; fill:none\" points=\"\n",
       "  825.203,1503.47 825.203,47.2441 \n",
       "  \"/>\n",
       "<polyline clip-path=\"url(#clip3403)\" style=\"stroke:#000000; stroke-width:2; stroke-opacity:0.1; fill:none\" points=\"\n",
       "  1116.45,1503.47 1116.45,47.2441 \n",
       "  \"/>\n",
       "<polyline clip-path=\"url(#clip3403)\" style=\"stroke:#000000; stroke-width:2; stroke-opacity:0.1; fill:none\" points=\"\n",
       "  1407.7,1503.47 1407.7,47.2441 \n",
       "  \"/>\n",
       "<polyline clip-path=\"url(#clip3403)\" style=\"stroke:#000000; stroke-width:2; stroke-opacity:0.1; fill:none\" points=\"\n",
       "  1698.94,1503.47 1698.94,47.2441 \n",
       "  \"/>\n",
       "<polyline clip-path=\"url(#clip3403)\" style=\"stroke:#000000; stroke-width:2; stroke-opacity:0.1; fill:none\" points=\"\n",
       "  1990.19,1503.47 1990.19,47.2441 \n",
       "  \"/>\n",
       "<polyline clip-path=\"url(#clip3403)\" style=\"stroke:#000000; stroke-width:2; stroke-opacity:0.1; fill:none\" points=\"\n",
       "  533.957,1503.47 1990.19,1503.47 \n",
       "  \"/>\n",
       "<polyline clip-path=\"url(#clip3403)\" style=\"stroke:#000000; stroke-width:2; stroke-opacity:0.1; fill:none\" points=\"\n",
       "  533.957,1212.23 1990.19,1212.23 \n",
       "  \"/>\n",
       "<polyline clip-path=\"url(#clip3403)\" style=\"stroke:#000000; stroke-width:2; stroke-opacity:0.1; fill:none\" points=\"\n",
       "  533.957,920.982 1990.19,920.982 \n",
       "  \"/>\n",
       "<polyline clip-path=\"url(#clip3403)\" style=\"stroke:#000000; stroke-width:2; stroke-opacity:0.1; fill:none\" points=\"\n",
       "  533.957,629.736 1990.19,629.736 \n",
       "  \"/>\n",
       "<polyline clip-path=\"url(#clip3403)\" style=\"stroke:#000000; stroke-width:2; stroke-opacity:0.1; fill:none\" points=\"\n",
       "  533.957,338.49 1990.19,338.49 \n",
       "  \"/>\n",
       "<polyline clip-path=\"url(#clip3403)\" style=\"stroke:#000000; stroke-width:2; stroke-opacity:0.1; fill:none\" points=\"\n",
       "  533.957,47.2441 1990.19,47.2441 \n",
       "  \"/>\n",
       "<polyline clip-path=\"url(#clip3401)\" style=\"stroke:#000000; stroke-width:4; stroke-opacity:1; fill:none\" points=\"\n",
       "  533.957,1503.47 1990.19,1503.47 \n",
       "  \"/>\n",
       "<polyline clip-path=\"url(#clip3401)\" style=\"stroke:#000000; stroke-width:4; stroke-opacity:1; fill:none\" points=\"\n",
       "  533.957,1503.47 533.957,47.2441 \n",
       "  \"/>\n",
       "<polyline clip-path=\"url(#clip3401)\" style=\"stroke:#000000; stroke-width:4; stroke-opacity:1; fill:none\" points=\"\n",
       "  533.957,1503.47 533.957,1481.63 \n",
       "  \"/>\n",
       "<polyline clip-path=\"url(#clip3401)\" style=\"stroke:#000000; stroke-width:4; stroke-opacity:1; fill:none\" points=\"\n",
       "  825.203,1503.47 825.203,1481.63 \n",
       "  \"/>\n",
       "<polyline clip-path=\"url(#clip3401)\" style=\"stroke:#000000; stroke-width:4; stroke-opacity:1; fill:none\" points=\"\n",
       "  1116.45,1503.47 1116.45,1481.63 \n",
       "  \"/>\n",
       "<polyline clip-path=\"url(#clip3401)\" style=\"stroke:#000000; stroke-width:4; stroke-opacity:1; fill:none\" points=\"\n",
       "  1407.7,1503.47 1407.7,1481.63 \n",
       "  \"/>\n",
       "<polyline clip-path=\"url(#clip3401)\" style=\"stroke:#000000; stroke-width:4; stroke-opacity:1; fill:none\" points=\"\n",
       "  1698.94,1503.47 1698.94,1481.63 \n",
       "  \"/>\n",
       "<polyline clip-path=\"url(#clip3401)\" style=\"stroke:#000000; stroke-width:4; stroke-opacity:1; fill:none\" points=\"\n",
       "  1990.19,1503.47 1990.19,1481.63 \n",
       "  \"/>\n",
       "<polyline clip-path=\"url(#clip3401)\" style=\"stroke:#000000; stroke-width:4; stroke-opacity:1; fill:none\" points=\"\n",
       "  533.957,1503.47 555.801,1503.47 \n",
       "  \"/>\n",
       "<polyline clip-path=\"url(#clip3401)\" style=\"stroke:#000000; stroke-width:4; stroke-opacity:1; fill:none\" points=\"\n",
       "  533.957,1212.23 555.801,1212.23 \n",
       "  \"/>\n",
       "<polyline clip-path=\"url(#clip3401)\" style=\"stroke:#000000; stroke-width:4; stroke-opacity:1; fill:none\" points=\"\n",
       "  533.957,920.982 555.801,920.982 \n",
       "  \"/>\n",
       "<polyline clip-path=\"url(#clip3401)\" style=\"stroke:#000000; stroke-width:4; stroke-opacity:1; fill:none\" points=\"\n",
       "  533.957,629.736 555.801,629.736 \n",
       "  \"/>\n",
       "<polyline clip-path=\"url(#clip3401)\" style=\"stroke:#000000; stroke-width:4; stroke-opacity:1; fill:none\" points=\"\n",
       "  533.957,338.49 555.801,338.49 \n",
       "  \"/>\n",
       "<polyline clip-path=\"url(#clip3401)\" style=\"stroke:#000000; stroke-width:4; stroke-opacity:1; fill:none\" points=\"\n",
       "  533.957,47.2441 555.801,47.2441 \n",
       "  \"/>\n",
       "<g clip-path=\"url(#clip3401)\">\n",
       "<text style=\"fill:#000000; fill-opacity:1; font-family:Arial,Helvetica Neue,Helvetica,sans-serif; font-size:48px; text-anchor:middle;\" transform=\"rotate(0, 533.957, 1557.47)\" x=\"533.957\" y=\"1557.47\">0</text>\n",
       "</g>\n",
       "<g clip-path=\"url(#clip3401)\">\n",
       "<text style=\"fill:#000000; fill-opacity:1; font-family:Arial,Helvetica Neue,Helvetica,sans-serif; font-size:48px; text-anchor:middle;\" transform=\"rotate(0, 825.203, 1557.47)\" x=\"825.203\" y=\"1557.47\">20</text>\n",
       "</g>\n",
       "<g clip-path=\"url(#clip3401)\">\n",
       "<text style=\"fill:#000000; fill-opacity:1; font-family:Arial,Helvetica Neue,Helvetica,sans-serif; font-size:48px; text-anchor:middle;\" transform=\"rotate(0, 1116.45, 1557.47)\" x=\"1116.45\" y=\"1557.47\">40</text>\n",
       "</g>\n",
       "<g clip-path=\"url(#clip3401)\">\n",
       "<text style=\"fill:#000000; fill-opacity:1; font-family:Arial,Helvetica Neue,Helvetica,sans-serif; font-size:48px; text-anchor:middle;\" transform=\"rotate(0, 1407.7, 1557.47)\" x=\"1407.7\" y=\"1557.47\">60</text>\n",
       "</g>\n",
       "<g clip-path=\"url(#clip3401)\">\n",
       "<text style=\"fill:#000000; fill-opacity:1; font-family:Arial,Helvetica Neue,Helvetica,sans-serif; font-size:48px; text-anchor:middle;\" transform=\"rotate(0, 1698.94, 1557.47)\" x=\"1698.94\" y=\"1557.47\">80</text>\n",
       "</g>\n",
       "<g clip-path=\"url(#clip3401)\">\n",
       "<text style=\"fill:#000000; fill-opacity:1; font-family:Arial,Helvetica Neue,Helvetica,sans-serif; font-size:48px; text-anchor:middle;\" transform=\"rotate(0, 1990.19, 1557.47)\" x=\"1990.19\" y=\"1557.47\">100</text>\n",
       "</g>\n",
       "<g clip-path=\"url(#clip3401)\">\n",
       "<text style=\"fill:#000000; fill-opacity:1; font-family:Arial,Helvetica Neue,Helvetica,sans-serif; font-size:48px; text-anchor:end;\" transform=\"rotate(0, 509.957, 1520.97)\" x=\"509.957\" y=\"1520.97\">-100</text>\n",
       "</g>\n",
       "<g clip-path=\"url(#clip3401)\">\n",
       "<text style=\"fill:#000000; fill-opacity:1; font-family:Arial,Helvetica Neue,Helvetica,sans-serif; font-size:48px; text-anchor:end;\" transform=\"rotate(0, 509.957, 1229.73)\" x=\"509.957\" y=\"1229.73\">-80</text>\n",
       "</g>\n",
       "<g clip-path=\"url(#clip3401)\">\n",
       "<text style=\"fill:#000000; fill-opacity:1; font-family:Arial,Helvetica Neue,Helvetica,sans-serif; font-size:48px; text-anchor:end;\" transform=\"rotate(0, 509.957, 938.482)\" x=\"509.957\" y=\"938.482\">-60</text>\n",
       "</g>\n",
       "<g clip-path=\"url(#clip3401)\">\n",
       "<text style=\"fill:#000000; fill-opacity:1; font-family:Arial,Helvetica Neue,Helvetica,sans-serif; font-size:48px; text-anchor:end;\" transform=\"rotate(0, 509.957, 647.236)\" x=\"509.957\" y=\"647.236\">-40</text>\n",
       "</g>\n",
       "<g clip-path=\"url(#clip3401)\">\n",
       "<text style=\"fill:#000000; fill-opacity:1; font-family:Arial,Helvetica Neue,Helvetica,sans-serif; font-size:48px; text-anchor:end;\" transform=\"rotate(0, 509.957, 355.99)\" x=\"509.957\" y=\"355.99\">-20</text>\n",
       "</g>\n",
       "<g clip-path=\"url(#clip3401)\">\n",
       "<text style=\"fill:#000000; fill-opacity:1; font-family:Arial,Helvetica Neue,Helvetica,sans-serif; font-size:48px; text-anchor:end;\" transform=\"rotate(0, 509.957, 64.7441)\" x=\"509.957\" y=\"64.7441\">0</text>\n",
       "</g>\n",
       "<circle clip-path=\"url(#clip3403)\" style=\"fill:#000000; stroke:none; fill-opacity:1\" cx=\"825.203\" cy=\"338.49\" r=\"18\"/>\n",
       "<circle clip-path=\"url(#clip3403)\" style=\"fill:#009af9; stroke:none; fill-opacity:1\" cx=\"825.203\" cy=\"338.49\" r=\"14\"/>\n",
       "<circle clip-path=\"url(#clip3403)\" style=\"fill:#000000; stroke:none; fill-opacity:1\" cx=\"1116.45\" cy=\"338.49\" r=\"18\"/>\n",
       "<circle clip-path=\"url(#clip3403)\" style=\"fill:#009af9; stroke:none; fill-opacity:1\" cx=\"1116.45\" cy=\"338.49\" r=\"14\"/>\n",
       "<circle clip-path=\"url(#clip3403)\" style=\"fill:#000000; stroke:none; fill-opacity:1\" cx=\"1407.7\" cy=\"338.49\" r=\"18\"/>\n",
       "<circle clip-path=\"url(#clip3403)\" style=\"fill:#009af9; stroke:none; fill-opacity:1\" cx=\"1407.7\" cy=\"338.49\" r=\"14\"/>\n",
       "<circle clip-path=\"url(#clip3403)\" style=\"fill:#000000; stroke:none; fill-opacity:1\" cx=\"1698.94\" cy=\"338.49\" r=\"18\"/>\n",
       "<circle clip-path=\"url(#clip3403)\" style=\"fill:#009af9; stroke:none; fill-opacity:1\" cx=\"1698.94\" cy=\"338.49\" r=\"14\"/>\n",
       "<circle clip-path=\"url(#clip3403)\" style=\"fill:#000000; stroke:none; fill-opacity:1\" cx=\"825.203\" cy=\"629.736\" r=\"18\"/>\n",
       "<circle clip-path=\"url(#clip3403)\" style=\"fill:#009af9; stroke:none; fill-opacity:1\" cx=\"825.203\" cy=\"629.736\" r=\"14\"/>\n",
       "<circle clip-path=\"url(#clip3403)\" style=\"fill:#000000; stroke:none; fill-opacity:1\" cx=\"1116.45\" cy=\"629.736\" r=\"18\"/>\n",
       "<circle clip-path=\"url(#clip3403)\" style=\"fill:#009af9; stroke:none; fill-opacity:1\" cx=\"1116.45\" cy=\"629.736\" r=\"14\"/>\n",
       "<circle clip-path=\"url(#clip3403)\" style=\"fill:#000000; stroke:none; fill-opacity:1\" cx=\"1407.7\" cy=\"629.736\" r=\"18\"/>\n",
       "<circle clip-path=\"url(#clip3403)\" style=\"fill:#009af9; stroke:none; fill-opacity:1\" cx=\"1407.7\" cy=\"629.736\" r=\"14\"/>\n",
       "<circle clip-path=\"url(#clip3403)\" style=\"fill:#000000; stroke:none; fill-opacity:1\" cx=\"1698.94\" cy=\"629.736\" r=\"18\"/>\n",
       "<circle clip-path=\"url(#clip3403)\" style=\"fill:#009af9; stroke:none; fill-opacity:1\" cx=\"1698.94\" cy=\"629.736\" r=\"14\"/>\n",
       "<circle clip-path=\"url(#clip3403)\" style=\"fill:#000000; stroke:none; fill-opacity:1\" cx=\"776.662\" cy=\"289.949\" r=\"18\"/>\n",
       "<circle clip-path=\"url(#clip3403)\" style=\"fill:#e26f46; stroke:none; fill-opacity:1\" cx=\"776.662\" cy=\"289.949\" r=\"14\"/>\n",
       "<circle clip-path=\"url(#clip3403)\" style=\"fill:#000000; stroke:none; fill-opacity:1\" cx=\"1019.37\" cy=\"289.949\" r=\"18\"/>\n",
       "<circle clip-path=\"url(#clip3403)\" style=\"fill:#e26f46; stroke:none; fill-opacity:1\" cx=\"1019.37\" cy=\"289.949\" r=\"14\"/>\n",
       "<circle clip-path=\"url(#clip3403)\" style=\"fill:#000000; stroke:none; fill-opacity:1\" cx=\"1262.07\" cy=\"289.949\" r=\"18\"/>\n",
       "<circle clip-path=\"url(#clip3403)\" style=\"fill:#e26f46; stroke:none; fill-opacity:1\" cx=\"1262.07\" cy=\"289.949\" r=\"14\"/>\n",
       "<circle clip-path=\"url(#clip3403)\" style=\"fill:#000000; stroke:none; fill-opacity:1\" cx=\"1504.78\" cy=\"289.949\" r=\"18\"/>\n",
       "<circle clip-path=\"url(#clip3403)\" style=\"fill:#e26f46; stroke:none; fill-opacity:1\" cx=\"1504.78\" cy=\"289.949\" r=\"14\"/>\n",
       "<circle clip-path=\"url(#clip3403)\" style=\"fill:#000000; stroke:none; fill-opacity:1\" cx=\"776.662\" cy=\"532.654\" r=\"18\"/>\n",
       "<circle clip-path=\"url(#clip3403)\" style=\"fill:#e26f46; stroke:none; fill-opacity:1\" cx=\"776.662\" cy=\"532.654\" r=\"14\"/>\n",
       "<circle clip-path=\"url(#clip3403)\" style=\"fill:#000000; stroke:none; fill-opacity:1\" cx=\"1019.37\" cy=\"532.654\" r=\"18\"/>\n",
       "<circle clip-path=\"url(#clip3403)\" style=\"fill:#e26f46; stroke:none; fill-opacity:1\" cx=\"1019.37\" cy=\"532.654\" r=\"14\"/>\n",
       "<circle clip-path=\"url(#clip3403)\" style=\"fill:#000000; stroke:none; fill-opacity:1\" cx=\"1262.07\" cy=\"532.654\" r=\"18\"/>\n",
       "<circle clip-path=\"url(#clip3403)\" style=\"fill:#e26f46; stroke:none; fill-opacity:1\" cx=\"1262.07\" cy=\"532.654\" r=\"14\"/>\n",
       "<circle clip-path=\"url(#clip3403)\" style=\"fill:#000000; stroke:none; fill-opacity:1\" cx=\"1504.78\" cy=\"532.654\" r=\"18\"/>\n",
       "<circle clip-path=\"url(#clip3403)\" style=\"fill:#e26f46; stroke:none; fill-opacity:1\" cx=\"1504.78\" cy=\"532.654\" r=\"14\"/>\n",
       "<circle clip-path=\"url(#clip3403)\" style=\"fill:#000000; stroke:none; fill-opacity:1\" cx=\"741.99\" cy=\"255.277\" r=\"18\"/>\n",
       "<circle clip-path=\"url(#clip3403)\" style=\"fill:#3da44d; stroke:none; fill-opacity:1\" cx=\"741.99\" cy=\"255.277\" r=\"14\"/>\n",
       "<circle clip-path=\"url(#clip3403)\" style=\"fill:#000000; stroke:none; fill-opacity:1\" cx=\"950.023\" cy=\"255.277\" r=\"18\"/>\n",
       "<circle clip-path=\"url(#clip3403)\" style=\"fill:#3da44d; stroke:none; fill-opacity:1\" cx=\"950.023\" cy=\"255.277\" r=\"14\"/>\n",
       "<circle clip-path=\"url(#clip3403)\" style=\"fill:#000000; stroke:none; fill-opacity:1\" cx=\"1158.06\" cy=\"255.277\" r=\"18\"/>\n",
       "<circle clip-path=\"url(#clip3403)\" style=\"fill:#3da44d; stroke:none; fill-opacity:1\" cx=\"1158.06\" cy=\"255.277\" r=\"14\"/>\n",
       "<circle clip-path=\"url(#clip3403)\" style=\"fill:#000000; stroke:none; fill-opacity:1\" cx=\"1366.09\" cy=\"255.277\" r=\"18\"/>\n",
       "<circle clip-path=\"url(#clip3403)\" style=\"fill:#3da44d; stroke:none; fill-opacity:1\" cx=\"1366.09\" cy=\"255.277\" r=\"14\"/>\n",
       "<circle clip-path=\"url(#clip3403)\" style=\"fill:#000000; stroke:none; fill-opacity:1\" cx=\"741.99\" cy=\"463.31\" r=\"18\"/>\n",
       "<circle clip-path=\"url(#clip3403)\" style=\"fill:#3da44d; stroke:none; fill-opacity:1\" cx=\"741.99\" cy=\"463.31\" r=\"14\"/>\n",
       "<circle clip-path=\"url(#clip3403)\" style=\"fill:#000000; stroke:none; fill-opacity:1\" cx=\"950.023\" cy=\"463.31\" r=\"18\"/>\n",
       "<circle clip-path=\"url(#clip3403)\" style=\"fill:#3da44d; stroke:none; fill-opacity:1\" cx=\"950.023\" cy=\"463.31\" r=\"14\"/>\n",
       "<circle clip-path=\"url(#clip3403)\" style=\"fill:#000000; stroke:none; fill-opacity:1\" cx=\"1158.06\" cy=\"463.31\" r=\"18\"/>\n",
       "<circle clip-path=\"url(#clip3403)\" style=\"fill:#3da44d; stroke:none; fill-opacity:1\" cx=\"1158.06\" cy=\"463.31\" r=\"14\"/>\n",
       "<circle clip-path=\"url(#clip3403)\" style=\"fill:#000000; stroke:none; fill-opacity:1\" cx=\"1366.09\" cy=\"463.31\" r=\"18\"/>\n",
       "<circle clip-path=\"url(#clip3403)\" style=\"fill:#3da44d; stroke:none; fill-opacity:1\" cx=\"1366.09\" cy=\"463.31\" r=\"14\"/>\n",
       "<polygon clip-path=\"url(#clip3401)\" points=\"\n",
       "1627.36,372.684 1918.19,372.684 1918.19,130.764 1627.36,130.764 \n",
       "  \" fill=\"#ffffff\" fill-rule=\"evenodd\" fill-opacity=\"1\"/>\n",
       "<polyline clip-path=\"url(#clip3401)\" style=\"stroke:#000000; stroke-width:4; stroke-opacity:1; fill:none\" points=\"\n",
       "  1627.36,372.684 1918.19,372.684 1918.19,130.764 1627.36,130.764 1627.36,372.684 \n",
       "  \"/>\n",
       "<circle clip-path=\"url(#clip3401)\" style=\"fill:#000000; stroke:none; fill-opacity:1\" cx=\"1735.36\" cy=\"191.244\" r=\"25\"/>\n",
       "<circle clip-path=\"url(#clip3401)\" style=\"fill:#009af9; stroke:none; fill-opacity:1\" cx=\"1735.36\" cy=\"191.244\" r=\"21\"/>\n",
       "<g clip-path=\"url(#clip3401)\">\n",
       "<text style=\"fill:#000000; fill-opacity:1; font-family:Arial,Helvetica Neue,Helvetica,sans-serif; font-size:48px; text-anchor:start;\" transform=\"rotate(0, 1819.36, 208.744)\" x=\"1819.36\" y=\"208.744\">y1</text>\n",
       "</g>\n",
       "<circle clip-path=\"url(#clip3401)\" style=\"fill:#000000; stroke:none; fill-opacity:1\" cx=\"1735.36\" cy=\"251.724\" r=\"25\"/>\n",
       "<circle clip-path=\"url(#clip3401)\" style=\"fill:#e26f46; stroke:none; fill-opacity:1\" cx=\"1735.36\" cy=\"251.724\" r=\"21\"/>\n",
       "<g clip-path=\"url(#clip3401)\">\n",
       "<text style=\"fill:#000000; fill-opacity:1; font-family:Arial,Helvetica Neue,Helvetica,sans-serif; font-size:48px; text-anchor:start;\" transform=\"rotate(0, 1819.36, 269.224)\" x=\"1819.36\" y=\"269.224\">y2</text>\n",
       "</g>\n",
       "<circle clip-path=\"url(#clip3401)\" style=\"fill:#000000; stroke:none; fill-opacity:1\" cx=\"1735.36\" cy=\"312.204\" r=\"25\"/>\n",
       "<circle clip-path=\"url(#clip3401)\" style=\"fill:#3da44d; stroke:none; fill-opacity:1\" cx=\"1735.36\" cy=\"312.204\" r=\"21\"/>\n",
       "<g clip-path=\"url(#clip3401)\">\n",
       "<text style=\"fill:#000000; fill-opacity:1; font-family:Arial,Helvetica Neue,Helvetica,sans-serif; font-size:48px; text-anchor:start;\" transform=\"rotate(0, 1819.36, 329.704)\" x=\"1819.36\" y=\"329.704\">y3</text>\n",
       "</g>\n",
       "</svg>\n"
      ]
     },
     "execution_count": 10,
     "metadata": {},
     "output_type": "execute_result"
    }
   ],
   "source": [
    "using Plots\n",
    "\n",
    "scatter(Q[1,1:8], -Q[2,1:8], xlims=(0, 100), ylims=(-100,0),aspect_ratio=:equal)\n",
    "scatter!(Q[1,9:16], -Q[2,9:16], xlims=(0, 100), ylims=(-100,0),aspect_ratio=:equal)\n",
    "scatter!(Q[1,17:24], -Q[2,17:24], xlims=(0, 100), ylims=(-100,0),aspect_ratio=:equal)"
   ]
  },
  {
   "cell_type": "markdown",
   "metadata": {},
   "source": [
    "## Move the box down\n",
    "\n",
    "Let's look at the same box moved down a couple units (create the matrix $Pdown$ by adding 2 to the second coordinate of the matrix $P$--remember that the $y$ axis is oriented downward!)."
   ]
  },
  {
   "cell_type": "code",
   "execution_count": 11,
   "metadata": {},
   "outputs": [
    {
     "data": {
      "text/plain": [
       "3×24 Array{Int64,2}:\n",
       " 1  2  3  4  1  2  3  4  1  2  3  4  1  2  3  4  1  2  3  4  1  2  3  4\n",
       " 3  3  3  3  4  4  4  4  3  3  3  3  4  4  4  4  3  3  3  3  4  4  4  4\n",
       " 5  5  5  5  5  5  5  5  6  6  6  6  6  6  6  6  7  7  7  7  7  7  7  7"
      ]
     },
     "execution_count": 11,
     "metadata": {},
     "output_type": "execute_result"
    }
   ],
   "source": [
    "Pdown = [P[1,:]' ; (P[2,:].+2)' ; P[3,:]']"
   ]
  },
  {
   "cell_type": "code",
   "execution_count": 12,
   "metadata": {},
   "outputs": [
    {
     "data": {
      "text/plain": [
       "3×24 Array{Float64,2}:\n",
       " 100.0  200.0  300.0  400.0  100.0  …  400.0  100.0  200.0  300.0  400.0\n",
       " 300.0  300.0  300.0  300.0  400.0     300.0  400.0  400.0  400.0  400.0\n",
       "   5.0    5.0    5.0    5.0    5.0       7.0    7.0    7.0    7.0    7.0"
      ]
     },
     "execution_count": 12,
     "metadata": {},
     "output_type": "execute_result"
    }
   ],
   "source": [
    "CamPdown = inv(A) * Pdown"
   ]
  },
  {
   "cell_type": "code",
   "execution_count": 13,
   "metadata": {},
   "outputs": [
    {
     "data": {
      "text/plain": [
       "2×24 Array{Float64,2}:\n",
       " 20.0  40.0  60.0  80.0  20.0  40.0  …  14.2857  28.5714  42.8571  57.1429\n",
       " 60.0  60.0  60.0  60.0  80.0  80.0     57.1429  57.1429  57.1429  57.1429"
      ]
     },
     "execution_count": 13,
     "metadata": {},
     "output_type": "execute_result"
    }
   ],
   "source": [
    "Q = [CamPdown[i,j]/CamPdown[3,j] for i = 1:2, j = 1:n]  "
   ]
  },
  {
   "cell_type": "code",
   "execution_count": 14,
   "metadata": {},
   "outputs": [
    {
     "data": {
      "image/svg+xml": [
       "<?xml version=\"1.0\" encoding=\"utf-8\"?>\n",
       "<svg xmlns=\"http://www.w3.org/2000/svg\" xmlns:xlink=\"http://www.w3.org/1999/xlink\" width=\"600\" height=\"400\" viewBox=\"0 0 2400 1600\">\n",
       "<defs>\n",
       "  <clipPath id=\"clip3600\">\n",
       "    <rect x=\"0\" y=\"0\" width=\"2000\" height=\"2000\"/>\n",
       "  </clipPath>\n",
       "</defs>\n",
       "<defs>\n",
       "  <clipPath id=\"clip3601\">\n",
       "    <rect x=\"0\" y=\"0\" width=\"2400\" height=\"1600\"/>\n",
       "  </clipPath>\n",
       "</defs>\n",
       "<polygon clip-path=\"url(#clip3601)\" points=\"\n",
       "0,1600 2400,1600 2400,0 0,0 \n",
       "  \" fill=\"#ffffff\" fill-rule=\"evenodd\" fill-opacity=\"1\"/>\n",
       "<defs>\n",
       "  <clipPath id=\"clip3602\">\n",
       "    <rect x=\"480\" y=\"0\" width=\"1681\" height=\"1600\"/>\n",
       "  </clipPath>\n",
       "</defs>\n",
       "<polygon clip-path=\"url(#clip3601)\" points=\"\n",
       "533.957,1503.47 1990.19,1503.47 1990.19,47.2441 533.957,47.2441 \n",
       "  \" fill=\"#ffffff\" fill-rule=\"evenodd\" fill-opacity=\"1\"/>\n",
       "<defs>\n",
       "  <clipPath id=\"clip3603\">\n",
       "    <rect x=\"533\" y=\"47\" width=\"1457\" height=\"1457\"/>\n",
       "  </clipPath>\n",
       "</defs>\n",
       "<polyline clip-path=\"url(#clip3603)\" style=\"stroke:#000000; stroke-width:2; stroke-opacity:0.1; fill:none\" points=\"\n",
       "  533.957,1503.47 533.957,47.2441 \n",
       "  \"/>\n",
       "<polyline clip-path=\"url(#clip3603)\" style=\"stroke:#000000; stroke-width:2; stroke-opacity:0.1; fill:none\" points=\"\n",
       "  825.203,1503.47 825.203,47.2441 \n",
       "  \"/>\n",
       "<polyline clip-path=\"url(#clip3603)\" style=\"stroke:#000000; stroke-width:2; stroke-opacity:0.1; fill:none\" points=\"\n",
       "  1116.45,1503.47 1116.45,47.2441 \n",
       "  \"/>\n",
       "<polyline clip-path=\"url(#clip3603)\" style=\"stroke:#000000; stroke-width:2; stroke-opacity:0.1; fill:none\" points=\"\n",
       "  1407.7,1503.47 1407.7,47.2441 \n",
       "  \"/>\n",
       "<polyline clip-path=\"url(#clip3603)\" style=\"stroke:#000000; stroke-width:2; stroke-opacity:0.1; fill:none\" points=\"\n",
       "  1698.94,1503.47 1698.94,47.2441 \n",
       "  \"/>\n",
       "<polyline clip-path=\"url(#clip3603)\" style=\"stroke:#000000; stroke-width:2; stroke-opacity:0.1; fill:none\" points=\"\n",
       "  1990.19,1503.47 1990.19,47.2441 \n",
       "  \"/>\n",
       "<polyline clip-path=\"url(#clip3603)\" style=\"stroke:#000000; stroke-width:2; stroke-opacity:0.1; fill:none\" points=\"\n",
       "  533.957,1503.47 1990.19,1503.47 \n",
       "  \"/>\n",
       "<polyline clip-path=\"url(#clip3603)\" style=\"stroke:#000000; stroke-width:2; stroke-opacity:0.1; fill:none\" points=\"\n",
       "  533.957,1212.23 1990.19,1212.23 \n",
       "  \"/>\n",
       "<polyline clip-path=\"url(#clip3603)\" style=\"stroke:#000000; stroke-width:2; stroke-opacity:0.1; fill:none\" points=\"\n",
       "  533.957,920.982 1990.19,920.982 \n",
       "  \"/>\n",
       "<polyline clip-path=\"url(#clip3603)\" style=\"stroke:#000000; stroke-width:2; stroke-opacity:0.1; fill:none\" points=\"\n",
       "  533.957,629.736 1990.19,629.736 \n",
       "  \"/>\n",
       "<polyline clip-path=\"url(#clip3603)\" style=\"stroke:#000000; stroke-width:2; stroke-opacity:0.1; fill:none\" points=\"\n",
       "  533.957,338.49 1990.19,338.49 \n",
       "  \"/>\n",
       "<polyline clip-path=\"url(#clip3603)\" style=\"stroke:#000000; stroke-width:2; stroke-opacity:0.1; fill:none\" points=\"\n",
       "  533.957,47.2441 1990.19,47.2441 \n",
       "  \"/>\n",
       "<polyline clip-path=\"url(#clip3601)\" style=\"stroke:#000000; stroke-width:4; stroke-opacity:1; fill:none\" points=\"\n",
       "  533.957,1503.47 1990.19,1503.47 \n",
       "  \"/>\n",
       "<polyline clip-path=\"url(#clip3601)\" style=\"stroke:#000000; stroke-width:4; stroke-opacity:1; fill:none\" points=\"\n",
       "  533.957,1503.47 533.957,47.2441 \n",
       "  \"/>\n",
       "<polyline clip-path=\"url(#clip3601)\" style=\"stroke:#000000; stroke-width:4; stroke-opacity:1; fill:none\" points=\"\n",
       "  533.957,1503.47 533.957,1481.63 \n",
       "  \"/>\n",
       "<polyline clip-path=\"url(#clip3601)\" style=\"stroke:#000000; stroke-width:4; stroke-opacity:1; fill:none\" points=\"\n",
       "  825.203,1503.47 825.203,1481.63 \n",
       "  \"/>\n",
       "<polyline clip-path=\"url(#clip3601)\" style=\"stroke:#000000; stroke-width:4; stroke-opacity:1; fill:none\" points=\"\n",
       "  1116.45,1503.47 1116.45,1481.63 \n",
       "  \"/>\n",
       "<polyline clip-path=\"url(#clip3601)\" style=\"stroke:#000000; stroke-width:4; stroke-opacity:1; fill:none\" points=\"\n",
       "  1407.7,1503.47 1407.7,1481.63 \n",
       "  \"/>\n",
       "<polyline clip-path=\"url(#clip3601)\" style=\"stroke:#000000; stroke-width:4; stroke-opacity:1; fill:none\" points=\"\n",
       "  1698.94,1503.47 1698.94,1481.63 \n",
       "  \"/>\n",
       "<polyline clip-path=\"url(#clip3601)\" style=\"stroke:#000000; stroke-width:4; stroke-opacity:1; fill:none\" points=\"\n",
       "  1990.19,1503.47 1990.19,1481.63 \n",
       "  \"/>\n",
       "<polyline clip-path=\"url(#clip3601)\" style=\"stroke:#000000; stroke-width:4; stroke-opacity:1; fill:none\" points=\"\n",
       "  533.957,1503.47 555.801,1503.47 \n",
       "  \"/>\n",
       "<polyline clip-path=\"url(#clip3601)\" style=\"stroke:#000000; stroke-width:4; stroke-opacity:1; fill:none\" points=\"\n",
       "  533.957,1212.23 555.801,1212.23 \n",
       "  \"/>\n",
       "<polyline clip-path=\"url(#clip3601)\" style=\"stroke:#000000; stroke-width:4; stroke-opacity:1; fill:none\" points=\"\n",
       "  533.957,920.982 555.801,920.982 \n",
       "  \"/>\n",
       "<polyline clip-path=\"url(#clip3601)\" style=\"stroke:#000000; stroke-width:4; stroke-opacity:1; fill:none\" points=\"\n",
       "  533.957,629.736 555.801,629.736 \n",
       "  \"/>\n",
       "<polyline clip-path=\"url(#clip3601)\" style=\"stroke:#000000; stroke-width:4; stroke-opacity:1; fill:none\" points=\"\n",
       "  533.957,338.49 555.801,338.49 \n",
       "  \"/>\n",
       "<polyline clip-path=\"url(#clip3601)\" style=\"stroke:#000000; stroke-width:4; stroke-opacity:1; fill:none\" points=\"\n",
       "  533.957,47.2441 555.801,47.2441 \n",
       "  \"/>\n",
       "<g clip-path=\"url(#clip3601)\">\n",
       "<text style=\"fill:#000000; fill-opacity:1; font-family:Arial,Helvetica Neue,Helvetica,sans-serif; font-size:48px; text-anchor:middle;\" transform=\"rotate(0, 533.957, 1557.47)\" x=\"533.957\" y=\"1557.47\">0</text>\n",
       "</g>\n",
       "<g clip-path=\"url(#clip3601)\">\n",
       "<text style=\"fill:#000000; fill-opacity:1; font-family:Arial,Helvetica Neue,Helvetica,sans-serif; font-size:48px; text-anchor:middle;\" transform=\"rotate(0, 825.203, 1557.47)\" x=\"825.203\" y=\"1557.47\">20</text>\n",
       "</g>\n",
       "<g clip-path=\"url(#clip3601)\">\n",
       "<text style=\"fill:#000000; fill-opacity:1; font-family:Arial,Helvetica Neue,Helvetica,sans-serif; font-size:48px; text-anchor:middle;\" transform=\"rotate(0, 1116.45, 1557.47)\" x=\"1116.45\" y=\"1557.47\">40</text>\n",
       "</g>\n",
       "<g clip-path=\"url(#clip3601)\">\n",
       "<text style=\"fill:#000000; fill-opacity:1; font-family:Arial,Helvetica Neue,Helvetica,sans-serif; font-size:48px; text-anchor:middle;\" transform=\"rotate(0, 1407.7, 1557.47)\" x=\"1407.7\" y=\"1557.47\">60</text>\n",
       "</g>\n",
       "<g clip-path=\"url(#clip3601)\">\n",
       "<text style=\"fill:#000000; fill-opacity:1; font-family:Arial,Helvetica Neue,Helvetica,sans-serif; font-size:48px; text-anchor:middle;\" transform=\"rotate(0, 1698.94, 1557.47)\" x=\"1698.94\" y=\"1557.47\">80</text>\n",
       "</g>\n",
       "<g clip-path=\"url(#clip3601)\">\n",
       "<text style=\"fill:#000000; fill-opacity:1; font-family:Arial,Helvetica Neue,Helvetica,sans-serif; font-size:48px; text-anchor:middle;\" transform=\"rotate(0, 1990.19, 1557.47)\" x=\"1990.19\" y=\"1557.47\">100</text>\n",
       "</g>\n",
       "<g clip-path=\"url(#clip3601)\">\n",
       "<text style=\"fill:#000000; fill-opacity:1; font-family:Arial,Helvetica Neue,Helvetica,sans-serif; font-size:48px; text-anchor:end;\" transform=\"rotate(0, 509.957, 1520.97)\" x=\"509.957\" y=\"1520.97\">-100</text>\n",
       "</g>\n",
       "<g clip-path=\"url(#clip3601)\">\n",
       "<text style=\"fill:#000000; fill-opacity:1; font-family:Arial,Helvetica Neue,Helvetica,sans-serif; font-size:48px; text-anchor:end;\" transform=\"rotate(0, 509.957, 1229.73)\" x=\"509.957\" y=\"1229.73\">-80</text>\n",
       "</g>\n",
       "<g clip-path=\"url(#clip3601)\">\n",
       "<text style=\"fill:#000000; fill-opacity:1; font-family:Arial,Helvetica Neue,Helvetica,sans-serif; font-size:48px; text-anchor:end;\" transform=\"rotate(0, 509.957, 938.482)\" x=\"509.957\" y=\"938.482\">-60</text>\n",
       "</g>\n",
       "<g clip-path=\"url(#clip3601)\">\n",
       "<text style=\"fill:#000000; fill-opacity:1; font-family:Arial,Helvetica Neue,Helvetica,sans-serif; font-size:48px; text-anchor:end;\" transform=\"rotate(0, 509.957, 647.236)\" x=\"509.957\" y=\"647.236\">-40</text>\n",
       "</g>\n",
       "<g clip-path=\"url(#clip3601)\">\n",
       "<text style=\"fill:#000000; fill-opacity:1; font-family:Arial,Helvetica Neue,Helvetica,sans-serif; font-size:48px; text-anchor:end;\" transform=\"rotate(0, 509.957, 355.99)\" x=\"509.957\" y=\"355.99\">-20</text>\n",
       "</g>\n",
       "<g clip-path=\"url(#clip3601)\">\n",
       "<text style=\"fill:#000000; fill-opacity:1; font-family:Arial,Helvetica Neue,Helvetica,sans-serif; font-size:48px; text-anchor:end;\" transform=\"rotate(0, 509.957, 64.7441)\" x=\"509.957\" y=\"64.7441\">0</text>\n",
       "</g>\n",
       "<circle clip-path=\"url(#clip3603)\" style=\"fill:#000000; stroke:none; fill-opacity:1\" cx=\"825.203\" cy=\"920.982\" r=\"18\"/>\n",
       "<circle clip-path=\"url(#clip3603)\" style=\"fill:#009af9; stroke:none; fill-opacity:1\" cx=\"825.203\" cy=\"920.982\" r=\"14\"/>\n",
       "<circle clip-path=\"url(#clip3603)\" style=\"fill:#000000; stroke:none; fill-opacity:1\" cx=\"1116.45\" cy=\"920.982\" r=\"18\"/>\n",
       "<circle clip-path=\"url(#clip3603)\" style=\"fill:#009af9; stroke:none; fill-opacity:1\" cx=\"1116.45\" cy=\"920.982\" r=\"14\"/>\n",
       "<circle clip-path=\"url(#clip3603)\" style=\"fill:#000000; stroke:none; fill-opacity:1\" cx=\"1407.7\" cy=\"920.982\" r=\"18\"/>\n",
       "<circle clip-path=\"url(#clip3603)\" style=\"fill:#009af9; stroke:none; fill-opacity:1\" cx=\"1407.7\" cy=\"920.982\" r=\"14\"/>\n",
       "<circle clip-path=\"url(#clip3603)\" style=\"fill:#000000; stroke:none; fill-opacity:1\" cx=\"1698.94\" cy=\"920.982\" r=\"18\"/>\n",
       "<circle clip-path=\"url(#clip3603)\" style=\"fill:#009af9; stroke:none; fill-opacity:1\" cx=\"1698.94\" cy=\"920.982\" r=\"14\"/>\n",
       "<circle clip-path=\"url(#clip3603)\" style=\"fill:#000000; stroke:none; fill-opacity:1\" cx=\"825.203\" cy=\"1212.23\" r=\"18\"/>\n",
       "<circle clip-path=\"url(#clip3603)\" style=\"fill:#009af9; stroke:none; fill-opacity:1\" cx=\"825.203\" cy=\"1212.23\" r=\"14\"/>\n",
       "<circle clip-path=\"url(#clip3603)\" style=\"fill:#000000; stroke:none; fill-opacity:1\" cx=\"1116.45\" cy=\"1212.23\" r=\"18\"/>\n",
       "<circle clip-path=\"url(#clip3603)\" style=\"fill:#009af9; stroke:none; fill-opacity:1\" cx=\"1116.45\" cy=\"1212.23\" r=\"14\"/>\n",
       "<circle clip-path=\"url(#clip3603)\" style=\"fill:#000000; stroke:none; fill-opacity:1\" cx=\"1407.7\" cy=\"1212.23\" r=\"18\"/>\n",
       "<circle clip-path=\"url(#clip3603)\" style=\"fill:#009af9; stroke:none; fill-opacity:1\" cx=\"1407.7\" cy=\"1212.23\" r=\"14\"/>\n",
       "<circle clip-path=\"url(#clip3603)\" style=\"fill:#000000; stroke:none; fill-opacity:1\" cx=\"1698.94\" cy=\"1212.23\" r=\"18\"/>\n",
       "<circle clip-path=\"url(#clip3603)\" style=\"fill:#009af9; stroke:none; fill-opacity:1\" cx=\"1698.94\" cy=\"1212.23\" r=\"14\"/>\n",
       "<circle clip-path=\"url(#clip3603)\" style=\"fill:#000000; stroke:none; fill-opacity:1\" cx=\"776.662\" cy=\"775.359\" r=\"18\"/>\n",
       "<circle clip-path=\"url(#clip3603)\" style=\"fill:#e26f46; stroke:none; fill-opacity:1\" cx=\"776.662\" cy=\"775.359\" r=\"14\"/>\n",
       "<circle clip-path=\"url(#clip3603)\" style=\"fill:#000000; stroke:none; fill-opacity:1\" cx=\"1019.37\" cy=\"775.359\" r=\"18\"/>\n",
       "<circle clip-path=\"url(#clip3603)\" style=\"fill:#e26f46; stroke:none; fill-opacity:1\" cx=\"1019.37\" cy=\"775.359\" r=\"14\"/>\n",
       "<circle clip-path=\"url(#clip3603)\" style=\"fill:#000000; stroke:none; fill-opacity:1\" cx=\"1262.07\" cy=\"775.359\" r=\"18\"/>\n",
       "<circle clip-path=\"url(#clip3603)\" style=\"fill:#e26f46; stroke:none; fill-opacity:1\" cx=\"1262.07\" cy=\"775.359\" r=\"14\"/>\n",
       "<circle clip-path=\"url(#clip3603)\" style=\"fill:#000000; stroke:none; fill-opacity:1\" cx=\"1504.78\" cy=\"775.359\" r=\"18\"/>\n",
       "<circle clip-path=\"url(#clip3603)\" style=\"fill:#e26f46; stroke:none; fill-opacity:1\" cx=\"1504.78\" cy=\"775.359\" r=\"14\"/>\n",
       "<circle clip-path=\"url(#clip3603)\" style=\"fill:#000000; stroke:none; fill-opacity:1\" cx=\"776.662\" cy=\"1018.06\" r=\"18\"/>\n",
       "<circle clip-path=\"url(#clip3603)\" style=\"fill:#e26f46; stroke:none; fill-opacity:1\" cx=\"776.662\" cy=\"1018.06\" r=\"14\"/>\n",
       "<circle clip-path=\"url(#clip3603)\" style=\"fill:#000000; stroke:none; fill-opacity:1\" cx=\"1019.37\" cy=\"1018.06\" r=\"18\"/>\n",
       "<circle clip-path=\"url(#clip3603)\" style=\"fill:#e26f46; stroke:none; fill-opacity:1\" cx=\"1019.37\" cy=\"1018.06\" r=\"14\"/>\n",
       "<circle clip-path=\"url(#clip3603)\" style=\"fill:#000000; stroke:none; fill-opacity:1\" cx=\"1262.07\" cy=\"1018.06\" r=\"18\"/>\n",
       "<circle clip-path=\"url(#clip3603)\" style=\"fill:#e26f46; stroke:none; fill-opacity:1\" cx=\"1262.07\" cy=\"1018.06\" r=\"14\"/>\n",
       "<circle clip-path=\"url(#clip3603)\" style=\"fill:#000000; stroke:none; fill-opacity:1\" cx=\"1504.78\" cy=\"1018.06\" r=\"18\"/>\n",
       "<circle clip-path=\"url(#clip3603)\" style=\"fill:#e26f46; stroke:none; fill-opacity:1\" cx=\"1504.78\" cy=\"1018.06\" r=\"14\"/>\n",
       "<circle clip-path=\"url(#clip3603)\" style=\"fill:#000000; stroke:none; fill-opacity:1\" cx=\"741.99\" cy=\"671.343\" r=\"18\"/>\n",
       "<circle clip-path=\"url(#clip3603)\" style=\"fill:#3da44d; stroke:none; fill-opacity:1\" cx=\"741.99\" cy=\"671.343\" r=\"14\"/>\n",
       "<circle clip-path=\"url(#clip3603)\" style=\"fill:#000000; stroke:none; fill-opacity:1\" cx=\"950.023\" cy=\"671.343\" r=\"18\"/>\n",
       "<circle clip-path=\"url(#clip3603)\" style=\"fill:#3da44d; stroke:none; fill-opacity:1\" cx=\"950.023\" cy=\"671.343\" r=\"14\"/>\n",
       "<circle clip-path=\"url(#clip3603)\" style=\"fill:#000000; stroke:none; fill-opacity:1\" cx=\"1158.06\" cy=\"671.343\" r=\"18\"/>\n",
       "<circle clip-path=\"url(#clip3603)\" style=\"fill:#3da44d; stroke:none; fill-opacity:1\" cx=\"1158.06\" cy=\"671.343\" r=\"14\"/>\n",
       "<circle clip-path=\"url(#clip3603)\" style=\"fill:#000000; stroke:none; fill-opacity:1\" cx=\"1366.09\" cy=\"671.343\" r=\"18\"/>\n",
       "<circle clip-path=\"url(#clip3603)\" style=\"fill:#3da44d; stroke:none; fill-opacity:1\" cx=\"1366.09\" cy=\"671.343\" r=\"14\"/>\n",
       "<circle clip-path=\"url(#clip3603)\" style=\"fill:#000000; stroke:none; fill-opacity:1\" cx=\"741.99\" cy=\"879.376\" r=\"18\"/>\n",
       "<circle clip-path=\"url(#clip3603)\" style=\"fill:#3da44d; stroke:none; fill-opacity:1\" cx=\"741.99\" cy=\"879.376\" r=\"14\"/>\n",
       "<circle clip-path=\"url(#clip3603)\" style=\"fill:#000000; stroke:none; fill-opacity:1\" cx=\"950.023\" cy=\"879.376\" r=\"18\"/>\n",
       "<circle clip-path=\"url(#clip3603)\" style=\"fill:#3da44d; stroke:none; fill-opacity:1\" cx=\"950.023\" cy=\"879.376\" r=\"14\"/>\n",
       "<circle clip-path=\"url(#clip3603)\" style=\"fill:#000000; stroke:none; fill-opacity:1\" cx=\"1158.06\" cy=\"879.376\" r=\"18\"/>\n",
       "<circle clip-path=\"url(#clip3603)\" style=\"fill:#3da44d; stroke:none; fill-opacity:1\" cx=\"1158.06\" cy=\"879.376\" r=\"14\"/>\n",
       "<circle clip-path=\"url(#clip3603)\" style=\"fill:#000000; stroke:none; fill-opacity:1\" cx=\"1366.09\" cy=\"879.376\" r=\"18\"/>\n",
       "<circle clip-path=\"url(#clip3603)\" style=\"fill:#3da44d; stroke:none; fill-opacity:1\" cx=\"1366.09\" cy=\"879.376\" r=\"14\"/>\n",
       "<polygon clip-path=\"url(#clip3601)\" points=\"\n",
       "1627.36,372.684 1918.19,372.684 1918.19,130.764 1627.36,130.764 \n",
       "  \" fill=\"#ffffff\" fill-rule=\"evenodd\" fill-opacity=\"1\"/>\n",
       "<polyline clip-path=\"url(#clip3601)\" style=\"stroke:#000000; stroke-width:4; stroke-opacity:1; fill:none\" points=\"\n",
       "  1627.36,372.684 1918.19,372.684 1918.19,130.764 1627.36,130.764 1627.36,372.684 \n",
       "  \"/>\n",
       "<circle clip-path=\"url(#clip3601)\" style=\"fill:#000000; stroke:none; fill-opacity:1\" cx=\"1735.36\" cy=\"191.244\" r=\"25\"/>\n",
       "<circle clip-path=\"url(#clip3601)\" style=\"fill:#009af9; stroke:none; fill-opacity:1\" cx=\"1735.36\" cy=\"191.244\" r=\"21\"/>\n",
       "<g clip-path=\"url(#clip3601)\">\n",
       "<text style=\"fill:#000000; fill-opacity:1; font-family:Arial,Helvetica Neue,Helvetica,sans-serif; font-size:48px; text-anchor:start;\" transform=\"rotate(0, 1819.36, 208.744)\" x=\"1819.36\" y=\"208.744\">y1</text>\n",
       "</g>\n",
       "<circle clip-path=\"url(#clip3601)\" style=\"fill:#000000; stroke:none; fill-opacity:1\" cx=\"1735.36\" cy=\"251.724\" r=\"25\"/>\n",
       "<circle clip-path=\"url(#clip3601)\" style=\"fill:#e26f46; stroke:none; fill-opacity:1\" cx=\"1735.36\" cy=\"251.724\" r=\"21\"/>\n",
       "<g clip-path=\"url(#clip3601)\">\n",
       "<text style=\"fill:#000000; fill-opacity:1; font-family:Arial,Helvetica Neue,Helvetica,sans-serif; font-size:48px; text-anchor:start;\" transform=\"rotate(0, 1819.36, 269.224)\" x=\"1819.36\" y=\"269.224\">y2</text>\n",
       "</g>\n",
       "<circle clip-path=\"url(#clip3601)\" style=\"fill:#000000; stroke:none; fill-opacity:1\" cx=\"1735.36\" cy=\"312.204\" r=\"25\"/>\n",
       "<circle clip-path=\"url(#clip3601)\" style=\"fill:#3da44d; stroke:none; fill-opacity:1\" cx=\"1735.36\" cy=\"312.204\" r=\"21\"/>\n",
       "<g clip-path=\"url(#clip3601)\">\n",
       "<text style=\"fill:#000000; fill-opacity:1; font-family:Arial,Helvetica Neue,Helvetica,sans-serif; font-size:48px; text-anchor:start;\" transform=\"rotate(0, 1819.36, 329.704)\" x=\"1819.36\" y=\"329.704\">y3</text>\n",
       "</g>\n",
       "</svg>\n"
      ]
     },
     "execution_count": 14,
     "metadata": {},
     "output_type": "execute_result"
    }
   ],
   "source": [
    "using Plots\n",
    "\n",
    "scatter(Q[1,1:8], -Q[2,1:8], xlims=(0, 100), ylims=(-100,0),aspect_ratio=:equal)\n",
    "scatter!(Q[1,9:16], -Q[2,9:16], xlims=(0, 100), ylims=(-100,0),aspect_ratio=:equal)\n",
    "scatter!(Q[1,17:24], -Q[2,17:24], xlims=(0, 100), ylims=(-100,0),aspect_ratio=:equal)"
   ]
  },
  {
   "cell_type": "markdown",
   "metadata": {},
   "source": [
    "## Move the box away\n",
    "\n",
    "Let's look at the same box moved away a couple units (create the matrix $Paway$ by adding 3 to the third coordinate of the matrix $P$--remember that the $z$ axis is oriented away!)."
   ]
  },
  {
   "cell_type": "code",
   "execution_count": 15,
   "metadata": {},
   "outputs": [
    {
     "data": {
      "text/plain": [
       "3×24 Array{Int64,2}:\n",
       " 1  2  3  4  1  2  3  4  1  2  3  4  1  …  4   1   2   3   4   1   2   3   4\n",
       " 1  1  1  1  2  2  2  2  1  1  1  1  2     2   1   1   1   1   2   2   2   2\n",
       " 8  8  8  8  8  8  8  8  9  9  9  9  9     9  10  10  10  10  10  10  10  10"
      ]
     },
     "execution_count": 15,
     "metadata": {},
     "output_type": "execute_result"
    }
   ],
   "source": [
    "Paway = [P[1,:]' ; P[2,:]' ; (P[3,:].+3)']"
   ]
  },
  {
   "cell_type": "code",
   "execution_count": 16,
   "metadata": {},
   "outputs": [
    {
     "data": {
      "text/plain": [
       "3×24 Array{Float64,2}:\n",
       " 100.0  200.0  300.0  400.0  100.0  …  400.0  100.0  200.0  300.0  400.0\n",
       " 100.0  100.0  100.0  100.0  200.0     100.0  200.0  200.0  200.0  200.0\n",
       "   8.0    8.0    8.0    8.0    8.0      10.0   10.0   10.0   10.0   10.0"
      ]
     },
     "execution_count": 16,
     "metadata": {},
     "output_type": "execute_result"
    }
   ],
   "source": [
    "CamPaway = inv(A) * Paway"
   ]
  },
  {
   "cell_type": "code",
   "execution_count": 17,
   "metadata": {},
   "outputs": [
    {
     "data": {
      "text/plain": [
       "2×24 Array{Float64,2}:\n",
       " 12.5  25.0  37.5  50.0  12.5  25.0  …  30.0  40.0  10.0  20.0  30.0  40.0\n",
       " 12.5  12.5  12.5  12.5  25.0  25.0     10.0  10.0  20.0  20.0  20.0  20.0"
      ]
     },
     "execution_count": 17,
     "metadata": {},
     "output_type": "execute_result"
    }
   ],
   "source": [
    "Q = [CamPaway[i,j]/CamPaway[3,j] for i = 1:2, j = 1:n]  "
   ]
  },
  {
   "cell_type": "code",
   "execution_count": 18,
   "metadata": {},
   "outputs": [
    {
     "data": {
      "image/svg+xml": [
       "<?xml version=\"1.0\" encoding=\"utf-8\"?>\n",
       "<svg xmlns=\"http://www.w3.org/2000/svg\" xmlns:xlink=\"http://www.w3.org/1999/xlink\" width=\"600\" height=\"400\" viewBox=\"0 0 2400 1600\">\n",
       "<defs>\n",
       "  <clipPath id=\"clip3800\">\n",
       "    <rect x=\"0\" y=\"0\" width=\"2000\" height=\"2000\"/>\n",
       "  </clipPath>\n",
       "</defs>\n",
       "<defs>\n",
       "  <clipPath id=\"clip3801\">\n",
       "    <rect x=\"0\" y=\"0\" width=\"2400\" height=\"1600\"/>\n",
       "  </clipPath>\n",
       "</defs>\n",
       "<polygon clip-path=\"url(#clip3801)\" points=\"\n",
       "0,1600 2400,1600 2400,0 0,0 \n",
       "  \" fill=\"#ffffff\" fill-rule=\"evenodd\" fill-opacity=\"1\"/>\n",
       "<defs>\n",
       "  <clipPath id=\"clip3802\">\n",
       "    <rect x=\"480\" y=\"0\" width=\"1681\" height=\"1600\"/>\n",
       "  </clipPath>\n",
       "</defs>\n",
       "<polygon clip-path=\"url(#clip3801)\" points=\"\n",
       "533.957,1503.47 1990.19,1503.47 1990.19,47.2441 533.957,47.2441 \n",
       "  \" fill=\"#ffffff\" fill-rule=\"evenodd\" fill-opacity=\"1\"/>\n",
       "<defs>\n",
       "  <clipPath id=\"clip3803\">\n",
       "    <rect x=\"533\" y=\"47\" width=\"1457\" height=\"1457\"/>\n",
       "  </clipPath>\n",
       "</defs>\n",
       "<polyline clip-path=\"url(#clip3803)\" style=\"stroke:#000000; stroke-width:2; stroke-opacity:0.1; fill:none\" points=\"\n",
       "  533.957,1503.47 533.957,47.2441 \n",
       "  \"/>\n",
       "<polyline clip-path=\"url(#clip3803)\" style=\"stroke:#000000; stroke-width:2; stroke-opacity:0.1; fill:none\" points=\"\n",
       "  825.203,1503.47 825.203,47.2441 \n",
       "  \"/>\n",
       "<polyline clip-path=\"url(#clip3803)\" style=\"stroke:#000000; stroke-width:2; stroke-opacity:0.1; fill:none\" points=\"\n",
       "  1116.45,1503.47 1116.45,47.2441 \n",
       "  \"/>\n",
       "<polyline clip-path=\"url(#clip3803)\" style=\"stroke:#000000; stroke-width:2; stroke-opacity:0.1; fill:none\" points=\"\n",
       "  1407.7,1503.47 1407.7,47.2441 \n",
       "  \"/>\n",
       "<polyline clip-path=\"url(#clip3803)\" style=\"stroke:#000000; stroke-width:2; stroke-opacity:0.1; fill:none\" points=\"\n",
       "  1698.94,1503.47 1698.94,47.2441 \n",
       "  \"/>\n",
       "<polyline clip-path=\"url(#clip3803)\" style=\"stroke:#000000; stroke-width:2; stroke-opacity:0.1; fill:none\" points=\"\n",
       "  1990.19,1503.47 1990.19,47.2441 \n",
       "  \"/>\n",
       "<polyline clip-path=\"url(#clip3803)\" style=\"stroke:#000000; stroke-width:2; stroke-opacity:0.1; fill:none\" points=\"\n",
       "  533.957,1503.47 1990.19,1503.47 \n",
       "  \"/>\n",
       "<polyline clip-path=\"url(#clip3803)\" style=\"stroke:#000000; stroke-width:2; stroke-opacity:0.1; fill:none\" points=\"\n",
       "  533.957,1212.23 1990.19,1212.23 \n",
       "  \"/>\n",
       "<polyline clip-path=\"url(#clip3803)\" style=\"stroke:#000000; stroke-width:2; stroke-opacity:0.1; fill:none\" points=\"\n",
       "  533.957,920.982 1990.19,920.982 \n",
       "  \"/>\n",
       "<polyline clip-path=\"url(#clip3803)\" style=\"stroke:#000000; stroke-width:2; stroke-opacity:0.1; fill:none\" points=\"\n",
       "  533.957,629.736 1990.19,629.736 \n",
       "  \"/>\n",
       "<polyline clip-path=\"url(#clip3803)\" style=\"stroke:#000000; stroke-width:2; stroke-opacity:0.1; fill:none\" points=\"\n",
       "  533.957,338.49 1990.19,338.49 \n",
       "  \"/>\n",
       "<polyline clip-path=\"url(#clip3803)\" style=\"stroke:#000000; stroke-width:2; stroke-opacity:0.1; fill:none\" points=\"\n",
       "  533.957,47.2441 1990.19,47.2441 \n",
       "  \"/>\n",
       "<polyline clip-path=\"url(#clip3801)\" style=\"stroke:#000000; stroke-width:4; stroke-opacity:1; fill:none\" points=\"\n",
       "  533.957,1503.47 1990.19,1503.47 \n",
       "  \"/>\n",
       "<polyline clip-path=\"url(#clip3801)\" style=\"stroke:#000000; stroke-width:4; stroke-opacity:1; fill:none\" points=\"\n",
       "  533.957,1503.47 533.957,47.2441 \n",
       "  \"/>\n",
       "<polyline clip-path=\"url(#clip3801)\" style=\"stroke:#000000; stroke-width:4; stroke-opacity:1; fill:none\" points=\"\n",
       "  533.957,1503.47 533.957,1481.63 \n",
       "  \"/>\n",
       "<polyline clip-path=\"url(#clip3801)\" style=\"stroke:#000000; stroke-width:4; stroke-opacity:1; fill:none\" points=\"\n",
       "  825.203,1503.47 825.203,1481.63 \n",
       "  \"/>\n",
       "<polyline clip-path=\"url(#clip3801)\" style=\"stroke:#000000; stroke-width:4; stroke-opacity:1; fill:none\" points=\"\n",
       "  1116.45,1503.47 1116.45,1481.63 \n",
       "  \"/>\n",
       "<polyline clip-path=\"url(#clip3801)\" style=\"stroke:#000000; stroke-width:4; stroke-opacity:1; fill:none\" points=\"\n",
       "  1407.7,1503.47 1407.7,1481.63 \n",
       "  \"/>\n",
       "<polyline clip-path=\"url(#clip3801)\" style=\"stroke:#000000; stroke-width:4; stroke-opacity:1; fill:none\" points=\"\n",
       "  1698.94,1503.47 1698.94,1481.63 \n",
       "  \"/>\n",
       "<polyline clip-path=\"url(#clip3801)\" style=\"stroke:#000000; stroke-width:4; stroke-opacity:1; fill:none\" points=\"\n",
       "  1990.19,1503.47 1990.19,1481.63 \n",
       "  \"/>\n",
       "<polyline clip-path=\"url(#clip3801)\" style=\"stroke:#000000; stroke-width:4; stroke-opacity:1; fill:none\" points=\"\n",
       "  533.957,1503.47 555.801,1503.47 \n",
       "  \"/>\n",
       "<polyline clip-path=\"url(#clip3801)\" style=\"stroke:#000000; stroke-width:4; stroke-opacity:1; fill:none\" points=\"\n",
       "  533.957,1212.23 555.801,1212.23 \n",
       "  \"/>\n",
       "<polyline clip-path=\"url(#clip3801)\" style=\"stroke:#000000; stroke-width:4; stroke-opacity:1; fill:none\" points=\"\n",
       "  533.957,920.982 555.801,920.982 \n",
       "  \"/>\n",
       "<polyline clip-path=\"url(#clip3801)\" style=\"stroke:#000000; stroke-width:4; stroke-opacity:1; fill:none\" points=\"\n",
       "  533.957,629.736 555.801,629.736 \n",
       "  \"/>\n",
       "<polyline clip-path=\"url(#clip3801)\" style=\"stroke:#000000; stroke-width:4; stroke-opacity:1; fill:none\" points=\"\n",
       "  533.957,338.49 555.801,338.49 \n",
       "  \"/>\n",
       "<polyline clip-path=\"url(#clip3801)\" style=\"stroke:#000000; stroke-width:4; stroke-opacity:1; fill:none\" points=\"\n",
       "  533.957,47.2441 555.801,47.2441 \n",
       "  \"/>\n",
       "<g clip-path=\"url(#clip3801)\">\n",
       "<text style=\"fill:#000000; fill-opacity:1; font-family:Arial,Helvetica Neue,Helvetica,sans-serif; font-size:48px; text-anchor:middle;\" transform=\"rotate(0, 533.957, 1557.47)\" x=\"533.957\" y=\"1557.47\">0</text>\n",
       "</g>\n",
       "<g clip-path=\"url(#clip3801)\">\n",
       "<text style=\"fill:#000000; fill-opacity:1; font-family:Arial,Helvetica Neue,Helvetica,sans-serif; font-size:48px; text-anchor:middle;\" transform=\"rotate(0, 825.203, 1557.47)\" x=\"825.203\" y=\"1557.47\">20</text>\n",
       "</g>\n",
       "<g clip-path=\"url(#clip3801)\">\n",
       "<text style=\"fill:#000000; fill-opacity:1; font-family:Arial,Helvetica Neue,Helvetica,sans-serif; font-size:48px; text-anchor:middle;\" transform=\"rotate(0, 1116.45, 1557.47)\" x=\"1116.45\" y=\"1557.47\">40</text>\n",
       "</g>\n",
       "<g clip-path=\"url(#clip3801)\">\n",
       "<text style=\"fill:#000000; fill-opacity:1; font-family:Arial,Helvetica Neue,Helvetica,sans-serif; font-size:48px; text-anchor:middle;\" transform=\"rotate(0, 1407.7, 1557.47)\" x=\"1407.7\" y=\"1557.47\">60</text>\n",
       "</g>\n",
       "<g clip-path=\"url(#clip3801)\">\n",
       "<text style=\"fill:#000000; fill-opacity:1; font-family:Arial,Helvetica Neue,Helvetica,sans-serif; font-size:48px; text-anchor:middle;\" transform=\"rotate(0, 1698.94, 1557.47)\" x=\"1698.94\" y=\"1557.47\">80</text>\n",
       "</g>\n",
       "<g clip-path=\"url(#clip3801)\">\n",
       "<text style=\"fill:#000000; fill-opacity:1; font-family:Arial,Helvetica Neue,Helvetica,sans-serif; font-size:48px; text-anchor:middle;\" transform=\"rotate(0, 1990.19, 1557.47)\" x=\"1990.19\" y=\"1557.47\">100</text>\n",
       "</g>\n",
       "<g clip-path=\"url(#clip3801)\">\n",
       "<text style=\"fill:#000000; fill-opacity:1; font-family:Arial,Helvetica Neue,Helvetica,sans-serif; font-size:48px; text-anchor:end;\" transform=\"rotate(0, 509.957, 1520.97)\" x=\"509.957\" y=\"1520.97\">-100</text>\n",
       "</g>\n",
       "<g clip-path=\"url(#clip3801)\">\n",
       "<text style=\"fill:#000000; fill-opacity:1; font-family:Arial,Helvetica Neue,Helvetica,sans-serif; font-size:48px; text-anchor:end;\" transform=\"rotate(0, 509.957, 1229.73)\" x=\"509.957\" y=\"1229.73\">-80</text>\n",
       "</g>\n",
       "<g clip-path=\"url(#clip3801)\">\n",
       "<text style=\"fill:#000000; fill-opacity:1; font-family:Arial,Helvetica Neue,Helvetica,sans-serif; font-size:48px; text-anchor:end;\" transform=\"rotate(0, 509.957, 938.482)\" x=\"509.957\" y=\"938.482\">-60</text>\n",
       "</g>\n",
       "<g clip-path=\"url(#clip3801)\">\n",
       "<text style=\"fill:#000000; fill-opacity:1; font-family:Arial,Helvetica Neue,Helvetica,sans-serif; font-size:48px; text-anchor:end;\" transform=\"rotate(0, 509.957, 647.236)\" x=\"509.957\" y=\"647.236\">-40</text>\n",
       "</g>\n",
       "<g clip-path=\"url(#clip3801)\">\n",
       "<text style=\"fill:#000000; fill-opacity:1; font-family:Arial,Helvetica Neue,Helvetica,sans-serif; font-size:48px; text-anchor:end;\" transform=\"rotate(0, 509.957, 355.99)\" x=\"509.957\" y=\"355.99\">-20</text>\n",
       "</g>\n",
       "<g clip-path=\"url(#clip3801)\">\n",
       "<text style=\"fill:#000000; fill-opacity:1; font-family:Arial,Helvetica Neue,Helvetica,sans-serif; font-size:48px; text-anchor:end;\" transform=\"rotate(0, 509.957, 64.7441)\" x=\"509.957\" y=\"64.7441\">0</text>\n",
       "</g>\n",
       "<circle clip-path=\"url(#clip3803)\" style=\"fill:#000000; stroke:none; fill-opacity:1\" cx=\"715.986\" cy=\"229.273\" r=\"18\"/>\n",
       "<circle clip-path=\"url(#clip3803)\" style=\"fill:#009af9; stroke:none; fill-opacity:1\" cx=\"715.986\" cy=\"229.273\" r=\"14\"/>\n",
       "<circle clip-path=\"url(#clip3803)\" style=\"fill:#000000; stroke:none; fill-opacity:1\" cx=\"898.015\" cy=\"229.273\" r=\"18\"/>\n",
       "<circle clip-path=\"url(#clip3803)\" style=\"fill:#009af9; stroke:none; fill-opacity:1\" cx=\"898.015\" cy=\"229.273\" r=\"14\"/>\n",
       "<circle clip-path=\"url(#clip3803)\" style=\"fill:#000000; stroke:none; fill-opacity:1\" cx=\"1080.04\" cy=\"229.273\" r=\"18\"/>\n",
       "<circle clip-path=\"url(#clip3803)\" style=\"fill:#009af9; stroke:none; fill-opacity:1\" cx=\"1080.04\" cy=\"229.273\" r=\"14\"/>\n",
       "<circle clip-path=\"url(#clip3803)\" style=\"fill:#000000; stroke:none; fill-opacity:1\" cx=\"1262.07\" cy=\"229.273\" r=\"18\"/>\n",
       "<circle clip-path=\"url(#clip3803)\" style=\"fill:#009af9; stroke:none; fill-opacity:1\" cx=\"1262.07\" cy=\"229.273\" r=\"14\"/>\n",
       "<circle clip-path=\"url(#clip3803)\" style=\"fill:#000000; stroke:none; fill-opacity:1\" cx=\"715.986\" cy=\"411.302\" r=\"18\"/>\n",
       "<circle clip-path=\"url(#clip3803)\" style=\"fill:#009af9; stroke:none; fill-opacity:1\" cx=\"715.986\" cy=\"411.302\" r=\"14\"/>\n",
       "<circle clip-path=\"url(#clip3803)\" style=\"fill:#000000; stroke:none; fill-opacity:1\" cx=\"898.015\" cy=\"411.302\" r=\"18\"/>\n",
       "<circle clip-path=\"url(#clip3803)\" style=\"fill:#009af9; stroke:none; fill-opacity:1\" cx=\"898.015\" cy=\"411.302\" r=\"14\"/>\n",
       "<circle clip-path=\"url(#clip3803)\" style=\"fill:#000000; stroke:none; fill-opacity:1\" cx=\"1080.04\" cy=\"411.302\" r=\"18\"/>\n",
       "<circle clip-path=\"url(#clip3803)\" style=\"fill:#009af9; stroke:none; fill-opacity:1\" cx=\"1080.04\" cy=\"411.302\" r=\"14\"/>\n",
       "<circle clip-path=\"url(#clip3803)\" style=\"fill:#000000; stroke:none; fill-opacity:1\" cx=\"1262.07\" cy=\"411.302\" r=\"18\"/>\n",
       "<circle clip-path=\"url(#clip3803)\" style=\"fill:#009af9; stroke:none; fill-opacity:1\" cx=\"1262.07\" cy=\"411.302\" r=\"14\"/>\n",
       "<circle clip-path=\"url(#clip3803)\" style=\"fill:#000000; stroke:none; fill-opacity:1\" cx=\"695.761\" cy=\"209.047\" r=\"18\"/>\n",
       "<circle clip-path=\"url(#clip3803)\" style=\"fill:#e26f46; stroke:none; fill-opacity:1\" cx=\"695.761\" cy=\"209.047\" r=\"14\"/>\n",
       "<circle clip-path=\"url(#clip3803)\" style=\"fill:#000000; stroke:none; fill-opacity:1\" cx=\"857.564\" cy=\"209.047\" r=\"18\"/>\n",
       "<circle clip-path=\"url(#clip3803)\" style=\"fill:#e26f46; stroke:none; fill-opacity:1\" cx=\"857.564\" cy=\"209.047\" r=\"14\"/>\n",
       "<circle clip-path=\"url(#clip3803)\" style=\"fill:#000000; stroke:none; fill-opacity:1\" cx=\"1019.37\" cy=\"209.047\" r=\"18\"/>\n",
       "<circle clip-path=\"url(#clip3803)\" style=\"fill:#e26f46; stroke:none; fill-opacity:1\" cx=\"1019.37\" cy=\"209.047\" r=\"14\"/>\n",
       "<circle clip-path=\"url(#clip3803)\" style=\"fill:#000000; stroke:none; fill-opacity:1\" cx=\"1181.17\" cy=\"209.047\" r=\"18\"/>\n",
       "<circle clip-path=\"url(#clip3803)\" style=\"fill:#e26f46; stroke:none; fill-opacity:1\" cx=\"1181.17\" cy=\"209.047\" r=\"14\"/>\n",
       "<circle clip-path=\"url(#clip3803)\" style=\"fill:#000000; stroke:none; fill-opacity:1\" cx=\"695.761\" cy=\"370.851\" r=\"18\"/>\n",
       "<circle clip-path=\"url(#clip3803)\" style=\"fill:#e26f46; stroke:none; fill-opacity:1\" cx=\"695.761\" cy=\"370.851\" r=\"14\"/>\n",
       "<circle clip-path=\"url(#clip3803)\" style=\"fill:#000000; stroke:none; fill-opacity:1\" cx=\"857.564\" cy=\"370.851\" r=\"18\"/>\n",
       "<circle clip-path=\"url(#clip3803)\" style=\"fill:#e26f46; stroke:none; fill-opacity:1\" cx=\"857.564\" cy=\"370.851\" r=\"14\"/>\n",
       "<circle clip-path=\"url(#clip3803)\" style=\"fill:#000000; stroke:none; fill-opacity:1\" cx=\"1019.37\" cy=\"370.851\" r=\"18\"/>\n",
       "<circle clip-path=\"url(#clip3803)\" style=\"fill:#e26f46; stroke:none; fill-opacity:1\" cx=\"1019.37\" cy=\"370.851\" r=\"14\"/>\n",
       "<circle clip-path=\"url(#clip3803)\" style=\"fill:#000000; stroke:none; fill-opacity:1\" cx=\"1181.17\" cy=\"370.851\" r=\"18\"/>\n",
       "<circle clip-path=\"url(#clip3803)\" style=\"fill:#e26f46; stroke:none; fill-opacity:1\" cx=\"1181.17\" cy=\"370.851\" r=\"14\"/>\n",
       "<circle clip-path=\"url(#clip3803)\" style=\"fill:#000000; stroke:none; fill-opacity:1\" cx=\"679.58\" cy=\"192.867\" r=\"18\"/>\n",
       "<circle clip-path=\"url(#clip3803)\" style=\"fill:#3da44d; stroke:none; fill-opacity:1\" cx=\"679.58\" cy=\"192.867\" r=\"14\"/>\n",
       "<circle clip-path=\"url(#clip3803)\" style=\"fill:#000000; stroke:none; fill-opacity:1\" cx=\"825.203\" cy=\"192.867\" r=\"18\"/>\n",
       "<circle clip-path=\"url(#clip3803)\" style=\"fill:#3da44d; stroke:none; fill-opacity:1\" cx=\"825.203\" cy=\"192.867\" r=\"14\"/>\n",
       "<circle clip-path=\"url(#clip3803)\" style=\"fill:#000000; stroke:none; fill-opacity:1\" cx=\"970.826\" cy=\"192.867\" r=\"18\"/>\n",
       "<circle clip-path=\"url(#clip3803)\" style=\"fill:#3da44d; stroke:none; fill-opacity:1\" cx=\"970.826\" cy=\"192.867\" r=\"14\"/>\n",
       "<circle clip-path=\"url(#clip3803)\" style=\"fill:#000000; stroke:none; fill-opacity:1\" cx=\"1116.45\" cy=\"192.867\" r=\"18\"/>\n",
       "<circle clip-path=\"url(#clip3803)\" style=\"fill:#3da44d; stroke:none; fill-opacity:1\" cx=\"1116.45\" cy=\"192.867\" r=\"14\"/>\n",
       "<circle clip-path=\"url(#clip3803)\" style=\"fill:#000000; stroke:none; fill-opacity:1\" cx=\"679.58\" cy=\"338.49\" r=\"18\"/>\n",
       "<circle clip-path=\"url(#clip3803)\" style=\"fill:#3da44d; stroke:none; fill-opacity:1\" cx=\"679.58\" cy=\"338.49\" r=\"14\"/>\n",
       "<circle clip-path=\"url(#clip3803)\" style=\"fill:#000000; stroke:none; fill-opacity:1\" cx=\"825.203\" cy=\"338.49\" r=\"18\"/>\n",
       "<circle clip-path=\"url(#clip3803)\" style=\"fill:#3da44d; stroke:none; fill-opacity:1\" cx=\"825.203\" cy=\"338.49\" r=\"14\"/>\n",
       "<circle clip-path=\"url(#clip3803)\" style=\"fill:#000000; stroke:none; fill-opacity:1\" cx=\"970.826\" cy=\"338.49\" r=\"18\"/>\n",
       "<circle clip-path=\"url(#clip3803)\" style=\"fill:#3da44d; stroke:none; fill-opacity:1\" cx=\"970.826\" cy=\"338.49\" r=\"14\"/>\n",
       "<circle clip-path=\"url(#clip3803)\" style=\"fill:#000000; stroke:none; fill-opacity:1\" cx=\"1116.45\" cy=\"338.49\" r=\"18\"/>\n",
       "<circle clip-path=\"url(#clip3803)\" style=\"fill:#3da44d; stroke:none; fill-opacity:1\" cx=\"1116.45\" cy=\"338.49\" r=\"14\"/>\n",
       "<polygon clip-path=\"url(#clip3801)\" points=\"\n",
       "1627.36,372.684 1918.19,372.684 1918.19,130.764 1627.36,130.764 \n",
       "  \" fill=\"#ffffff\" fill-rule=\"evenodd\" fill-opacity=\"1\"/>\n",
       "<polyline clip-path=\"url(#clip3801)\" style=\"stroke:#000000; stroke-width:4; stroke-opacity:1; fill:none\" points=\"\n",
       "  1627.36,372.684 1918.19,372.684 1918.19,130.764 1627.36,130.764 1627.36,372.684 \n",
       "  \"/>\n",
       "<circle clip-path=\"url(#clip3801)\" style=\"fill:#000000; stroke:none; fill-opacity:1\" cx=\"1735.36\" cy=\"191.244\" r=\"25\"/>\n",
       "<circle clip-path=\"url(#clip3801)\" style=\"fill:#009af9; stroke:none; fill-opacity:1\" cx=\"1735.36\" cy=\"191.244\" r=\"21\"/>\n",
       "<g clip-path=\"url(#clip3801)\">\n",
       "<text style=\"fill:#000000; fill-opacity:1; font-family:Arial,Helvetica Neue,Helvetica,sans-serif; font-size:48px; text-anchor:start;\" transform=\"rotate(0, 1819.36, 208.744)\" x=\"1819.36\" y=\"208.744\">y1</text>\n",
       "</g>\n",
       "<circle clip-path=\"url(#clip3801)\" style=\"fill:#000000; stroke:none; fill-opacity:1\" cx=\"1735.36\" cy=\"251.724\" r=\"25\"/>\n",
       "<circle clip-path=\"url(#clip3801)\" style=\"fill:#e26f46; stroke:none; fill-opacity:1\" cx=\"1735.36\" cy=\"251.724\" r=\"21\"/>\n",
       "<g clip-path=\"url(#clip3801)\">\n",
       "<text style=\"fill:#000000; fill-opacity:1; font-family:Arial,Helvetica Neue,Helvetica,sans-serif; font-size:48px; text-anchor:start;\" transform=\"rotate(0, 1819.36, 269.224)\" x=\"1819.36\" y=\"269.224\">y2</text>\n",
       "</g>\n",
       "<circle clip-path=\"url(#clip3801)\" style=\"fill:#000000; stroke:none; fill-opacity:1\" cx=\"1735.36\" cy=\"312.204\" r=\"25\"/>\n",
       "<circle clip-path=\"url(#clip3801)\" style=\"fill:#3da44d; stroke:none; fill-opacity:1\" cx=\"1735.36\" cy=\"312.204\" r=\"21\"/>\n",
       "<g clip-path=\"url(#clip3801)\">\n",
       "<text style=\"fill:#000000; fill-opacity:1; font-family:Arial,Helvetica Neue,Helvetica,sans-serif; font-size:48px; text-anchor:start;\" transform=\"rotate(0, 1819.36, 329.704)\" x=\"1819.36\" y=\"329.704\">y3</text>\n",
       "</g>\n",
       "</svg>\n"
      ]
     },
     "execution_count": 18,
     "metadata": {},
     "output_type": "execute_result"
    }
   ],
   "source": [
    "using Plots\n",
    "\n",
    "scatter(Q[1,1:8], -Q[2,1:8], xlims=(0, 100), ylims=(-100,0),aspect_ratio=:equal)\n",
    "scatter!(Q[1,9:16], -Q[2,9:16], xlims=(0, 100), ylims=(-100,0),aspect_ratio=:equal)\n",
    "scatter!(Q[1,17:24], -Q[2,17:24], xlims=(0, 100), ylims=(-100,0),aspect_ratio=:equal)"
   ]
  },
  {
   "cell_type": "markdown",
   "metadata": {},
   "source": [
    "## Move the box down and away\n",
    "\n",
    "Add to the second and third coordinates to move the box down and away (matrix $Pda$)"
   ]
  },
  {
   "cell_type": "code",
   "execution_count": 19,
   "metadata": {},
   "outputs": [
    {
     "data": {
      "text/plain": [
       "3×24 Array{Int64,2}:\n",
       " 1  2  3  4  1  2  3  4  1  2  3  4  1  …  4   1   2   3   4   1   2   3   4\n",
       " 3  3  3  3  4  4  4  4  3  3  3  3  4     4   3   3   3   3   4   4   4   4\n",
       " 8  8  8  8  8  8  8  8  9  9  9  9  9     9  10  10  10  10  10  10  10  10"
      ]
     },
     "execution_count": 19,
     "metadata": {},
     "output_type": "execute_result"
    }
   ],
   "source": [
    "Pda = [P[1,:]' ; (P[2,:].+2)' ; (P[3,:].+3)']"
   ]
  },
  {
   "cell_type": "code",
   "execution_count": 20,
   "metadata": {},
   "outputs": [
    {
     "data": {
      "text/plain": [
       "3×24 Array{Float64,2}:\n",
       " 100.0  200.0  300.0  400.0  100.0  …  400.0  100.0  200.0  300.0  400.0\n",
       " 300.0  300.0  300.0  300.0  400.0     300.0  400.0  400.0  400.0  400.0\n",
       "   8.0    8.0    8.0    8.0    8.0      10.0   10.0   10.0   10.0   10.0"
      ]
     },
     "execution_count": 20,
     "metadata": {},
     "output_type": "execute_result"
    }
   ],
   "source": [
    "CamPda = inv(A) * Pda"
   ]
  },
  {
   "cell_type": "code",
   "execution_count": 21,
   "metadata": {},
   "outputs": [
    {
     "data": {
      "text/plain": [
       "2×24 Array{Float64,2}:\n",
       " 12.5  25.0  37.5  50.0  12.5  25.0  …  30.0  40.0  10.0  20.0  30.0  40.0\n",
       " 37.5  37.5  37.5  37.5  50.0  50.0     30.0  30.0  40.0  40.0  40.0  40.0"
      ]
     },
     "execution_count": 21,
     "metadata": {},
     "output_type": "execute_result"
    }
   ],
   "source": [
    "Q = [CamPda[i,j]/CamPda[3,j] for i = 1:2, j = 1:n]  "
   ]
  },
  {
   "cell_type": "code",
   "execution_count": 22,
   "metadata": {},
   "outputs": [
    {
     "data": {
      "image/svg+xml": [
       "<?xml version=\"1.0\" encoding=\"utf-8\"?>\n",
       "<svg xmlns=\"http://www.w3.org/2000/svg\" xmlns:xlink=\"http://www.w3.org/1999/xlink\" width=\"600\" height=\"400\" viewBox=\"0 0 2400 1600\">\n",
       "<defs>\n",
       "  <clipPath id=\"clip4000\">\n",
       "    <rect x=\"0\" y=\"0\" width=\"2000\" height=\"2000\"/>\n",
       "  </clipPath>\n",
       "</defs>\n",
       "<defs>\n",
       "  <clipPath id=\"clip4001\">\n",
       "    <rect x=\"0\" y=\"0\" width=\"2400\" height=\"1600\"/>\n",
       "  </clipPath>\n",
       "</defs>\n",
       "<polygon clip-path=\"url(#clip4001)\" points=\"\n",
       "0,1600 2400,1600 2400,0 0,0 \n",
       "  \" fill=\"#ffffff\" fill-rule=\"evenodd\" fill-opacity=\"1\"/>\n",
       "<defs>\n",
       "  <clipPath id=\"clip4002\">\n",
       "    <rect x=\"480\" y=\"0\" width=\"1681\" height=\"1600\"/>\n",
       "  </clipPath>\n",
       "</defs>\n",
       "<polygon clip-path=\"url(#clip4001)\" points=\"\n",
       "533.957,1503.47 1990.19,1503.47 1990.19,47.2441 533.957,47.2441 \n",
       "  \" fill=\"#ffffff\" fill-rule=\"evenodd\" fill-opacity=\"1\"/>\n",
       "<defs>\n",
       "  <clipPath id=\"clip4003\">\n",
       "    <rect x=\"533\" y=\"47\" width=\"1457\" height=\"1457\"/>\n",
       "  </clipPath>\n",
       "</defs>\n",
       "<polyline clip-path=\"url(#clip4003)\" style=\"stroke:#000000; stroke-width:2; stroke-opacity:0.1; fill:none\" points=\"\n",
       "  533.957,1503.47 533.957,47.2441 \n",
       "  \"/>\n",
       "<polyline clip-path=\"url(#clip4003)\" style=\"stroke:#000000; stroke-width:2; stroke-opacity:0.1; fill:none\" points=\"\n",
       "  825.203,1503.47 825.203,47.2441 \n",
       "  \"/>\n",
       "<polyline clip-path=\"url(#clip4003)\" style=\"stroke:#000000; stroke-width:2; stroke-opacity:0.1; fill:none\" points=\"\n",
       "  1116.45,1503.47 1116.45,47.2441 \n",
       "  \"/>\n",
       "<polyline clip-path=\"url(#clip4003)\" style=\"stroke:#000000; stroke-width:2; stroke-opacity:0.1; fill:none\" points=\"\n",
       "  1407.7,1503.47 1407.7,47.2441 \n",
       "  \"/>\n",
       "<polyline clip-path=\"url(#clip4003)\" style=\"stroke:#000000; stroke-width:2; stroke-opacity:0.1; fill:none\" points=\"\n",
       "  1698.94,1503.47 1698.94,47.2441 \n",
       "  \"/>\n",
       "<polyline clip-path=\"url(#clip4003)\" style=\"stroke:#000000; stroke-width:2; stroke-opacity:0.1; fill:none\" points=\"\n",
       "  1990.19,1503.47 1990.19,47.2441 \n",
       "  \"/>\n",
       "<polyline clip-path=\"url(#clip4003)\" style=\"stroke:#000000; stroke-width:2; stroke-opacity:0.1; fill:none\" points=\"\n",
       "  533.957,1503.47 1990.19,1503.47 \n",
       "  \"/>\n",
       "<polyline clip-path=\"url(#clip4003)\" style=\"stroke:#000000; stroke-width:2; stroke-opacity:0.1; fill:none\" points=\"\n",
       "  533.957,1212.23 1990.19,1212.23 \n",
       "  \"/>\n",
       "<polyline clip-path=\"url(#clip4003)\" style=\"stroke:#000000; stroke-width:2; stroke-opacity:0.1; fill:none\" points=\"\n",
       "  533.957,920.982 1990.19,920.982 \n",
       "  \"/>\n",
       "<polyline clip-path=\"url(#clip4003)\" style=\"stroke:#000000; stroke-width:2; stroke-opacity:0.1; fill:none\" points=\"\n",
       "  533.957,629.736 1990.19,629.736 \n",
       "  \"/>\n",
       "<polyline clip-path=\"url(#clip4003)\" style=\"stroke:#000000; stroke-width:2; stroke-opacity:0.1; fill:none\" points=\"\n",
       "  533.957,338.49 1990.19,338.49 \n",
       "  \"/>\n",
       "<polyline clip-path=\"url(#clip4003)\" style=\"stroke:#000000; stroke-width:2; stroke-opacity:0.1; fill:none\" points=\"\n",
       "  533.957,47.2441 1990.19,47.2441 \n",
       "  \"/>\n",
       "<polyline clip-path=\"url(#clip4001)\" style=\"stroke:#000000; stroke-width:4; stroke-opacity:1; fill:none\" points=\"\n",
       "  533.957,1503.47 1990.19,1503.47 \n",
       "  \"/>\n",
       "<polyline clip-path=\"url(#clip4001)\" style=\"stroke:#000000; stroke-width:4; stroke-opacity:1; fill:none\" points=\"\n",
       "  533.957,1503.47 533.957,47.2441 \n",
       "  \"/>\n",
       "<polyline clip-path=\"url(#clip4001)\" style=\"stroke:#000000; stroke-width:4; stroke-opacity:1; fill:none\" points=\"\n",
       "  533.957,1503.47 533.957,1481.63 \n",
       "  \"/>\n",
       "<polyline clip-path=\"url(#clip4001)\" style=\"stroke:#000000; stroke-width:4; stroke-opacity:1; fill:none\" points=\"\n",
       "  825.203,1503.47 825.203,1481.63 \n",
       "  \"/>\n",
       "<polyline clip-path=\"url(#clip4001)\" style=\"stroke:#000000; stroke-width:4; stroke-opacity:1; fill:none\" points=\"\n",
       "  1116.45,1503.47 1116.45,1481.63 \n",
       "  \"/>\n",
       "<polyline clip-path=\"url(#clip4001)\" style=\"stroke:#000000; stroke-width:4; stroke-opacity:1; fill:none\" points=\"\n",
       "  1407.7,1503.47 1407.7,1481.63 \n",
       "  \"/>\n",
       "<polyline clip-path=\"url(#clip4001)\" style=\"stroke:#000000; stroke-width:4; stroke-opacity:1; fill:none\" points=\"\n",
       "  1698.94,1503.47 1698.94,1481.63 \n",
       "  \"/>\n",
       "<polyline clip-path=\"url(#clip4001)\" style=\"stroke:#000000; stroke-width:4; stroke-opacity:1; fill:none\" points=\"\n",
       "  1990.19,1503.47 1990.19,1481.63 \n",
       "  \"/>\n",
       "<polyline clip-path=\"url(#clip4001)\" style=\"stroke:#000000; stroke-width:4; stroke-opacity:1; fill:none\" points=\"\n",
       "  533.957,1503.47 555.801,1503.47 \n",
       "  \"/>\n",
       "<polyline clip-path=\"url(#clip4001)\" style=\"stroke:#000000; stroke-width:4; stroke-opacity:1; fill:none\" points=\"\n",
       "  533.957,1212.23 555.801,1212.23 \n",
       "  \"/>\n",
       "<polyline clip-path=\"url(#clip4001)\" style=\"stroke:#000000; stroke-width:4; stroke-opacity:1; fill:none\" points=\"\n",
       "  533.957,920.982 555.801,920.982 \n",
       "  \"/>\n",
       "<polyline clip-path=\"url(#clip4001)\" style=\"stroke:#000000; stroke-width:4; stroke-opacity:1; fill:none\" points=\"\n",
       "  533.957,629.736 555.801,629.736 \n",
       "  \"/>\n",
       "<polyline clip-path=\"url(#clip4001)\" style=\"stroke:#000000; stroke-width:4; stroke-opacity:1; fill:none\" points=\"\n",
       "  533.957,338.49 555.801,338.49 \n",
       "  \"/>\n",
       "<polyline clip-path=\"url(#clip4001)\" style=\"stroke:#000000; stroke-width:4; stroke-opacity:1; fill:none\" points=\"\n",
       "  533.957,47.2441 555.801,47.2441 \n",
       "  \"/>\n",
       "<g clip-path=\"url(#clip4001)\">\n",
       "<text style=\"fill:#000000; fill-opacity:1; font-family:Arial,Helvetica Neue,Helvetica,sans-serif; font-size:48px; text-anchor:middle;\" transform=\"rotate(0, 533.957, 1557.47)\" x=\"533.957\" y=\"1557.47\">0</text>\n",
       "</g>\n",
       "<g clip-path=\"url(#clip4001)\">\n",
       "<text style=\"fill:#000000; fill-opacity:1; font-family:Arial,Helvetica Neue,Helvetica,sans-serif; font-size:48px; text-anchor:middle;\" transform=\"rotate(0, 825.203, 1557.47)\" x=\"825.203\" y=\"1557.47\">20</text>\n",
       "</g>\n",
       "<g clip-path=\"url(#clip4001)\">\n",
       "<text style=\"fill:#000000; fill-opacity:1; font-family:Arial,Helvetica Neue,Helvetica,sans-serif; font-size:48px; text-anchor:middle;\" transform=\"rotate(0, 1116.45, 1557.47)\" x=\"1116.45\" y=\"1557.47\">40</text>\n",
       "</g>\n",
       "<g clip-path=\"url(#clip4001)\">\n",
       "<text style=\"fill:#000000; fill-opacity:1; font-family:Arial,Helvetica Neue,Helvetica,sans-serif; font-size:48px; text-anchor:middle;\" transform=\"rotate(0, 1407.7, 1557.47)\" x=\"1407.7\" y=\"1557.47\">60</text>\n",
       "</g>\n",
       "<g clip-path=\"url(#clip4001)\">\n",
       "<text style=\"fill:#000000; fill-opacity:1; font-family:Arial,Helvetica Neue,Helvetica,sans-serif; font-size:48px; text-anchor:middle;\" transform=\"rotate(0, 1698.94, 1557.47)\" x=\"1698.94\" y=\"1557.47\">80</text>\n",
       "</g>\n",
       "<g clip-path=\"url(#clip4001)\">\n",
       "<text style=\"fill:#000000; fill-opacity:1; font-family:Arial,Helvetica Neue,Helvetica,sans-serif; font-size:48px; text-anchor:middle;\" transform=\"rotate(0, 1990.19, 1557.47)\" x=\"1990.19\" y=\"1557.47\">100</text>\n",
       "</g>\n",
       "<g clip-path=\"url(#clip4001)\">\n",
       "<text style=\"fill:#000000; fill-opacity:1; font-family:Arial,Helvetica Neue,Helvetica,sans-serif; font-size:48px; text-anchor:end;\" transform=\"rotate(0, 509.957, 1520.97)\" x=\"509.957\" y=\"1520.97\">-100</text>\n",
       "</g>\n",
       "<g clip-path=\"url(#clip4001)\">\n",
       "<text style=\"fill:#000000; fill-opacity:1; font-family:Arial,Helvetica Neue,Helvetica,sans-serif; font-size:48px; text-anchor:end;\" transform=\"rotate(0, 509.957, 1229.73)\" x=\"509.957\" y=\"1229.73\">-80</text>\n",
       "</g>\n",
       "<g clip-path=\"url(#clip4001)\">\n",
       "<text style=\"fill:#000000; fill-opacity:1; font-family:Arial,Helvetica Neue,Helvetica,sans-serif; font-size:48px; text-anchor:end;\" transform=\"rotate(0, 509.957, 938.482)\" x=\"509.957\" y=\"938.482\">-60</text>\n",
       "</g>\n",
       "<g clip-path=\"url(#clip4001)\">\n",
       "<text style=\"fill:#000000; fill-opacity:1; font-family:Arial,Helvetica Neue,Helvetica,sans-serif; font-size:48px; text-anchor:end;\" transform=\"rotate(0, 509.957, 647.236)\" x=\"509.957\" y=\"647.236\">-40</text>\n",
       "</g>\n",
       "<g clip-path=\"url(#clip4001)\">\n",
       "<text style=\"fill:#000000; fill-opacity:1; font-family:Arial,Helvetica Neue,Helvetica,sans-serif; font-size:48px; text-anchor:end;\" transform=\"rotate(0, 509.957, 355.99)\" x=\"509.957\" y=\"355.99\">-20</text>\n",
       "</g>\n",
       "<g clip-path=\"url(#clip4001)\">\n",
       "<text style=\"fill:#000000; fill-opacity:1; font-family:Arial,Helvetica Neue,Helvetica,sans-serif; font-size:48px; text-anchor:end;\" transform=\"rotate(0, 509.957, 64.7441)\" x=\"509.957\" y=\"64.7441\">0</text>\n",
       "</g>\n",
       "<circle clip-path=\"url(#clip4003)\" style=\"fill:#000000; stroke:none; fill-opacity:1\" cx=\"715.986\" cy=\"593.331\" r=\"18\"/>\n",
       "<circle clip-path=\"url(#clip4003)\" style=\"fill:#009af9; stroke:none; fill-opacity:1\" cx=\"715.986\" cy=\"593.331\" r=\"14\"/>\n",
       "<circle clip-path=\"url(#clip4003)\" style=\"fill:#000000; stroke:none; fill-opacity:1\" cx=\"898.015\" cy=\"593.331\" r=\"18\"/>\n",
       "<circle clip-path=\"url(#clip4003)\" style=\"fill:#009af9; stroke:none; fill-opacity:1\" cx=\"898.015\" cy=\"593.331\" r=\"14\"/>\n",
       "<circle clip-path=\"url(#clip4003)\" style=\"fill:#000000; stroke:none; fill-opacity:1\" cx=\"1080.04\" cy=\"593.331\" r=\"18\"/>\n",
       "<circle clip-path=\"url(#clip4003)\" style=\"fill:#009af9; stroke:none; fill-opacity:1\" cx=\"1080.04\" cy=\"593.331\" r=\"14\"/>\n",
       "<circle clip-path=\"url(#clip4003)\" style=\"fill:#000000; stroke:none; fill-opacity:1\" cx=\"1262.07\" cy=\"593.331\" r=\"18\"/>\n",
       "<circle clip-path=\"url(#clip4003)\" style=\"fill:#009af9; stroke:none; fill-opacity:1\" cx=\"1262.07\" cy=\"593.331\" r=\"14\"/>\n",
       "<circle clip-path=\"url(#clip4003)\" style=\"fill:#000000; stroke:none; fill-opacity:1\" cx=\"715.986\" cy=\"775.359\" r=\"18\"/>\n",
       "<circle clip-path=\"url(#clip4003)\" style=\"fill:#009af9; stroke:none; fill-opacity:1\" cx=\"715.986\" cy=\"775.359\" r=\"14\"/>\n",
       "<circle clip-path=\"url(#clip4003)\" style=\"fill:#000000; stroke:none; fill-opacity:1\" cx=\"898.015\" cy=\"775.359\" r=\"18\"/>\n",
       "<circle clip-path=\"url(#clip4003)\" style=\"fill:#009af9; stroke:none; fill-opacity:1\" cx=\"898.015\" cy=\"775.359\" r=\"14\"/>\n",
       "<circle clip-path=\"url(#clip4003)\" style=\"fill:#000000; stroke:none; fill-opacity:1\" cx=\"1080.04\" cy=\"775.359\" r=\"18\"/>\n",
       "<circle clip-path=\"url(#clip4003)\" style=\"fill:#009af9; stroke:none; fill-opacity:1\" cx=\"1080.04\" cy=\"775.359\" r=\"14\"/>\n",
       "<circle clip-path=\"url(#clip4003)\" style=\"fill:#000000; stroke:none; fill-opacity:1\" cx=\"1262.07\" cy=\"775.359\" r=\"18\"/>\n",
       "<circle clip-path=\"url(#clip4003)\" style=\"fill:#009af9; stroke:none; fill-opacity:1\" cx=\"1262.07\" cy=\"775.359\" r=\"14\"/>\n",
       "<circle clip-path=\"url(#clip4003)\" style=\"fill:#000000; stroke:none; fill-opacity:1\" cx=\"695.761\" cy=\"532.654\" r=\"18\"/>\n",
       "<circle clip-path=\"url(#clip4003)\" style=\"fill:#e26f46; stroke:none; fill-opacity:1\" cx=\"695.761\" cy=\"532.654\" r=\"14\"/>\n",
       "<circle clip-path=\"url(#clip4003)\" style=\"fill:#000000; stroke:none; fill-opacity:1\" cx=\"857.564\" cy=\"532.654\" r=\"18\"/>\n",
       "<circle clip-path=\"url(#clip4003)\" style=\"fill:#e26f46; stroke:none; fill-opacity:1\" cx=\"857.564\" cy=\"532.654\" r=\"14\"/>\n",
       "<circle clip-path=\"url(#clip4003)\" style=\"fill:#000000; stroke:none; fill-opacity:1\" cx=\"1019.37\" cy=\"532.654\" r=\"18\"/>\n",
       "<circle clip-path=\"url(#clip4003)\" style=\"fill:#e26f46; stroke:none; fill-opacity:1\" cx=\"1019.37\" cy=\"532.654\" r=\"14\"/>\n",
       "<circle clip-path=\"url(#clip4003)\" style=\"fill:#000000; stroke:none; fill-opacity:1\" cx=\"1181.17\" cy=\"532.654\" r=\"18\"/>\n",
       "<circle clip-path=\"url(#clip4003)\" style=\"fill:#e26f46; stroke:none; fill-opacity:1\" cx=\"1181.17\" cy=\"532.654\" r=\"14\"/>\n",
       "<circle clip-path=\"url(#clip4003)\" style=\"fill:#000000; stroke:none; fill-opacity:1\" cx=\"695.761\" cy=\"694.458\" r=\"18\"/>\n",
       "<circle clip-path=\"url(#clip4003)\" style=\"fill:#e26f46; stroke:none; fill-opacity:1\" cx=\"695.761\" cy=\"694.458\" r=\"14\"/>\n",
       "<circle clip-path=\"url(#clip4003)\" style=\"fill:#000000; stroke:none; fill-opacity:1\" cx=\"857.564\" cy=\"694.458\" r=\"18\"/>\n",
       "<circle clip-path=\"url(#clip4003)\" style=\"fill:#e26f46; stroke:none; fill-opacity:1\" cx=\"857.564\" cy=\"694.458\" r=\"14\"/>\n",
       "<circle clip-path=\"url(#clip4003)\" style=\"fill:#000000; stroke:none; fill-opacity:1\" cx=\"1019.37\" cy=\"694.458\" r=\"18\"/>\n",
       "<circle clip-path=\"url(#clip4003)\" style=\"fill:#e26f46; stroke:none; fill-opacity:1\" cx=\"1019.37\" cy=\"694.458\" r=\"14\"/>\n",
       "<circle clip-path=\"url(#clip4003)\" style=\"fill:#000000; stroke:none; fill-opacity:1\" cx=\"1181.17\" cy=\"694.458\" r=\"18\"/>\n",
       "<circle clip-path=\"url(#clip4003)\" style=\"fill:#e26f46; stroke:none; fill-opacity:1\" cx=\"1181.17\" cy=\"694.458\" r=\"14\"/>\n",
       "<circle clip-path=\"url(#clip4003)\" style=\"fill:#000000; stroke:none; fill-opacity:1\" cx=\"679.58\" cy=\"484.113\" r=\"18\"/>\n",
       "<circle clip-path=\"url(#clip4003)\" style=\"fill:#3da44d; stroke:none; fill-opacity:1\" cx=\"679.58\" cy=\"484.113\" r=\"14\"/>\n",
       "<circle clip-path=\"url(#clip4003)\" style=\"fill:#000000; stroke:none; fill-opacity:1\" cx=\"825.203\" cy=\"484.113\" r=\"18\"/>\n",
       "<circle clip-path=\"url(#clip4003)\" style=\"fill:#3da44d; stroke:none; fill-opacity:1\" cx=\"825.203\" cy=\"484.113\" r=\"14\"/>\n",
       "<circle clip-path=\"url(#clip4003)\" style=\"fill:#000000; stroke:none; fill-opacity:1\" cx=\"970.826\" cy=\"484.113\" r=\"18\"/>\n",
       "<circle clip-path=\"url(#clip4003)\" style=\"fill:#3da44d; stroke:none; fill-opacity:1\" cx=\"970.826\" cy=\"484.113\" r=\"14\"/>\n",
       "<circle clip-path=\"url(#clip4003)\" style=\"fill:#000000; stroke:none; fill-opacity:1\" cx=\"1116.45\" cy=\"484.113\" r=\"18\"/>\n",
       "<circle clip-path=\"url(#clip4003)\" style=\"fill:#3da44d; stroke:none; fill-opacity:1\" cx=\"1116.45\" cy=\"484.113\" r=\"14\"/>\n",
       "<circle clip-path=\"url(#clip4003)\" style=\"fill:#000000; stroke:none; fill-opacity:1\" cx=\"679.58\" cy=\"629.736\" r=\"18\"/>\n",
       "<circle clip-path=\"url(#clip4003)\" style=\"fill:#3da44d; stroke:none; fill-opacity:1\" cx=\"679.58\" cy=\"629.736\" r=\"14\"/>\n",
       "<circle clip-path=\"url(#clip4003)\" style=\"fill:#000000; stroke:none; fill-opacity:1\" cx=\"825.203\" cy=\"629.736\" r=\"18\"/>\n",
       "<circle clip-path=\"url(#clip4003)\" style=\"fill:#3da44d; stroke:none; fill-opacity:1\" cx=\"825.203\" cy=\"629.736\" r=\"14\"/>\n",
       "<circle clip-path=\"url(#clip4003)\" style=\"fill:#000000; stroke:none; fill-opacity:1\" cx=\"970.826\" cy=\"629.736\" r=\"18\"/>\n",
       "<circle clip-path=\"url(#clip4003)\" style=\"fill:#3da44d; stroke:none; fill-opacity:1\" cx=\"970.826\" cy=\"629.736\" r=\"14\"/>\n",
       "<circle clip-path=\"url(#clip4003)\" style=\"fill:#000000; stroke:none; fill-opacity:1\" cx=\"1116.45\" cy=\"629.736\" r=\"18\"/>\n",
       "<circle clip-path=\"url(#clip4003)\" style=\"fill:#3da44d; stroke:none; fill-opacity:1\" cx=\"1116.45\" cy=\"629.736\" r=\"14\"/>\n",
       "<polygon clip-path=\"url(#clip4001)\" points=\"\n",
       "1627.36,372.684 1918.19,372.684 1918.19,130.764 1627.36,130.764 \n",
       "  \" fill=\"#ffffff\" fill-rule=\"evenodd\" fill-opacity=\"1\"/>\n",
       "<polyline clip-path=\"url(#clip4001)\" style=\"stroke:#000000; stroke-width:4; stroke-opacity:1; fill:none\" points=\"\n",
       "  1627.36,372.684 1918.19,372.684 1918.19,130.764 1627.36,130.764 1627.36,372.684 \n",
       "  \"/>\n",
       "<circle clip-path=\"url(#clip4001)\" style=\"fill:#000000; stroke:none; fill-opacity:1\" cx=\"1735.36\" cy=\"191.244\" r=\"25\"/>\n",
       "<circle clip-path=\"url(#clip4001)\" style=\"fill:#009af9; stroke:none; fill-opacity:1\" cx=\"1735.36\" cy=\"191.244\" r=\"21\"/>\n",
       "<g clip-path=\"url(#clip4001)\">\n",
       "<text style=\"fill:#000000; fill-opacity:1; font-family:Arial,Helvetica Neue,Helvetica,sans-serif; font-size:48px; text-anchor:start;\" transform=\"rotate(0, 1819.36, 208.744)\" x=\"1819.36\" y=\"208.744\">y1</text>\n",
       "</g>\n",
       "<circle clip-path=\"url(#clip4001)\" style=\"fill:#000000; stroke:none; fill-opacity:1\" cx=\"1735.36\" cy=\"251.724\" r=\"25\"/>\n",
       "<circle clip-path=\"url(#clip4001)\" style=\"fill:#e26f46; stroke:none; fill-opacity:1\" cx=\"1735.36\" cy=\"251.724\" r=\"21\"/>\n",
       "<g clip-path=\"url(#clip4001)\">\n",
       "<text style=\"fill:#000000; fill-opacity:1; font-family:Arial,Helvetica Neue,Helvetica,sans-serif; font-size:48px; text-anchor:start;\" transform=\"rotate(0, 1819.36, 269.224)\" x=\"1819.36\" y=\"269.224\">y2</text>\n",
       "</g>\n",
       "<circle clip-path=\"url(#clip4001)\" style=\"fill:#000000; stroke:none; fill-opacity:1\" cx=\"1735.36\" cy=\"312.204\" r=\"25\"/>\n",
       "<circle clip-path=\"url(#clip4001)\" style=\"fill:#3da44d; stroke:none; fill-opacity:1\" cx=\"1735.36\" cy=\"312.204\" r=\"21\"/>\n",
       "<g clip-path=\"url(#clip4001)\">\n",
       "<text style=\"fill:#000000; fill-opacity:1; font-family:Arial,Helvetica Neue,Helvetica,sans-serif; font-size:48px; text-anchor:start;\" transform=\"rotate(0, 1819.36, 329.704)\" x=\"1819.36\" y=\"329.704\">y3</text>\n",
       "</g>\n",
       "</svg>\n"
      ]
     },
     "execution_count": 22,
     "metadata": {},
     "output_type": "execute_result"
    }
   ],
   "source": [
    "using Plots\n",
    "\n",
    "scatter(Q[1,1:8], -Q[2,1:8], xlims=(0, 100), ylims=(-100,0),aspect_ratio=:equal)\n",
    "scatter!(Q[1,9:16], -Q[2,9:16], xlims=(0, 100), ylims=(-100,0),aspect_ratio=:equal)\n",
    "scatter!(Q[1,17:24], -Q[2,17:24], xlims=(0, 100), ylims=(-100,0),aspect_ratio=:equal)"
   ]
  },
  {
   "cell_type": "markdown",
   "metadata": {},
   "source": [
    "## Move the box down, away, and to the right\n",
    "\n",
    "Create the matrix $Pfar$ by adding 2 to the second coordinate, 3 to the third coordinate, and 3 to the first coordinate of the matrix $P$)."
   ]
  },
  {
   "cell_type": "code",
   "execution_count": 23,
   "metadata": {},
   "outputs": [
    {
     "data": {
      "text/plain": [
       "3×24 Array{Int64,2}:\n",
       " 4  5  6  7  4  5  6  7  4  5  6  7  4  …  7   4   5   6   7   4   5   6   7\n",
       " 3  3  3  3  4  4  4  4  3  3  3  3  4     4   3   3   3   3   4   4   4   4\n",
       " 8  8  8  8  8  8  8  8  9  9  9  9  9     9  10  10  10  10  10  10  10  10"
      ]
     },
     "execution_count": 23,
     "metadata": {},
     "output_type": "execute_result"
    }
   ],
   "source": [
    "Pfar = [(P[1,:].+3)' ; (P[2,:].+2)' ; (P[3,:].+3)']"
   ]
  },
  {
   "cell_type": "code",
   "execution_count": 24,
   "metadata": {},
   "outputs": [
    {
     "data": {
      "text/plain": [
       "3×24 Array{Float64,2}:\n",
       " 400.0  500.0  600.0  700.0  400.0  …  700.0  400.0  500.0  600.0  700.0\n",
       " 300.0  300.0  300.0  300.0  400.0     300.0  400.0  400.0  400.0  400.0\n",
       "   8.0    8.0    8.0    8.0    8.0      10.0   10.0   10.0   10.0   10.0"
      ]
     },
     "execution_count": 24,
     "metadata": {},
     "output_type": "execute_result"
    }
   ],
   "source": [
    "CamPfar = inv(A) * Pfar"
   ]
  },
  {
   "cell_type": "code",
   "execution_count": 25,
   "metadata": {},
   "outputs": [
    {
     "data": {
      "text/plain": [
       "2×24 Array{Float64,2}:\n",
       " 50.0  62.5  75.0  87.5  50.0  62.5  …  60.0  70.0  40.0  50.0  60.0  70.0\n",
       " 37.5  37.5  37.5  37.5  50.0  50.0     30.0  30.0  40.0  40.0  40.0  40.0"
      ]
     },
     "execution_count": 25,
     "metadata": {},
     "output_type": "execute_result"
    }
   ],
   "source": [
    "Q = [CamPfar[i,j]/CamPfar[3,j] for i = 1:2, j = 1:n]  "
   ]
  },
  {
   "cell_type": "code",
   "execution_count": 26,
   "metadata": {},
   "outputs": [
    {
     "data": {
      "image/svg+xml": [
       "<?xml version=\"1.0\" encoding=\"utf-8\"?>\n",
       "<svg xmlns=\"http://www.w3.org/2000/svg\" xmlns:xlink=\"http://www.w3.org/1999/xlink\" width=\"600\" height=\"400\" viewBox=\"0 0 2400 1600\">\n",
       "<defs>\n",
       "  <clipPath id=\"clip4200\">\n",
       "    <rect x=\"0\" y=\"0\" width=\"2000\" height=\"2000\"/>\n",
       "  </clipPath>\n",
       "</defs>\n",
       "<defs>\n",
       "  <clipPath id=\"clip4201\">\n",
       "    <rect x=\"0\" y=\"0\" width=\"2400\" height=\"1600\"/>\n",
       "  </clipPath>\n",
       "</defs>\n",
       "<polygon clip-path=\"url(#clip4201)\" points=\"\n",
       "0,1600 2400,1600 2400,0 0,0 \n",
       "  \" fill=\"#ffffff\" fill-rule=\"evenodd\" fill-opacity=\"1\"/>\n",
       "<defs>\n",
       "  <clipPath id=\"clip4202\">\n",
       "    <rect x=\"480\" y=\"0\" width=\"1681\" height=\"1600\"/>\n",
       "  </clipPath>\n",
       "</defs>\n",
       "<polygon clip-path=\"url(#clip4201)\" points=\"\n",
       "533.957,1503.47 1990.19,1503.47 1990.19,47.2441 533.957,47.2441 \n",
       "  \" fill=\"#ffffff\" fill-rule=\"evenodd\" fill-opacity=\"1\"/>\n",
       "<defs>\n",
       "  <clipPath id=\"clip4203\">\n",
       "    <rect x=\"533\" y=\"47\" width=\"1457\" height=\"1457\"/>\n",
       "  </clipPath>\n",
       "</defs>\n",
       "<polyline clip-path=\"url(#clip4203)\" style=\"stroke:#000000; stroke-width:2; stroke-opacity:0.1; fill:none\" points=\"\n",
       "  533.957,1503.47 533.957,47.2441 \n",
       "  \"/>\n",
       "<polyline clip-path=\"url(#clip4203)\" style=\"stroke:#000000; stroke-width:2; stroke-opacity:0.1; fill:none\" points=\"\n",
       "  825.203,1503.47 825.203,47.2441 \n",
       "  \"/>\n",
       "<polyline clip-path=\"url(#clip4203)\" style=\"stroke:#000000; stroke-width:2; stroke-opacity:0.1; fill:none\" points=\"\n",
       "  1116.45,1503.47 1116.45,47.2441 \n",
       "  \"/>\n",
       "<polyline clip-path=\"url(#clip4203)\" style=\"stroke:#000000; stroke-width:2; stroke-opacity:0.1; fill:none\" points=\"\n",
       "  1407.7,1503.47 1407.7,47.2441 \n",
       "  \"/>\n",
       "<polyline clip-path=\"url(#clip4203)\" style=\"stroke:#000000; stroke-width:2; stroke-opacity:0.1; fill:none\" points=\"\n",
       "  1698.94,1503.47 1698.94,47.2441 \n",
       "  \"/>\n",
       "<polyline clip-path=\"url(#clip4203)\" style=\"stroke:#000000; stroke-width:2; stroke-opacity:0.1; fill:none\" points=\"\n",
       "  1990.19,1503.47 1990.19,47.2441 \n",
       "  \"/>\n",
       "<polyline clip-path=\"url(#clip4203)\" style=\"stroke:#000000; stroke-width:2; stroke-opacity:0.1; fill:none\" points=\"\n",
       "  533.957,1503.47 1990.19,1503.47 \n",
       "  \"/>\n",
       "<polyline clip-path=\"url(#clip4203)\" style=\"stroke:#000000; stroke-width:2; stroke-opacity:0.1; fill:none\" points=\"\n",
       "  533.957,1212.23 1990.19,1212.23 \n",
       "  \"/>\n",
       "<polyline clip-path=\"url(#clip4203)\" style=\"stroke:#000000; stroke-width:2; stroke-opacity:0.1; fill:none\" points=\"\n",
       "  533.957,920.982 1990.19,920.982 \n",
       "  \"/>\n",
       "<polyline clip-path=\"url(#clip4203)\" style=\"stroke:#000000; stroke-width:2; stroke-opacity:0.1; fill:none\" points=\"\n",
       "  533.957,629.736 1990.19,629.736 \n",
       "  \"/>\n",
       "<polyline clip-path=\"url(#clip4203)\" style=\"stroke:#000000; stroke-width:2; stroke-opacity:0.1; fill:none\" points=\"\n",
       "  533.957,338.49 1990.19,338.49 \n",
       "  \"/>\n",
       "<polyline clip-path=\"url(#clip4203)\" style=\"stroke:#000000; stroke-width:2; stroke-opacity:0.1; fill:none\" points=\"\n",
       "  533.957,47.2441 1990.19,47.2441 \n",
       "  \"/>\n",
       "<polyline clip-path=\"url(#clip4201)\" style=\"stroke:#000000; stroke-width:4; stroke-opacity:1; fill:none\" points=\"\n",
       "  533.957,1503.47 1990.19,1503.47 \n",
       "  \"/>\n",
       "<polyline clip-path=\"url(#clip4201)\" style=\"stroke:#000000; stroke-width:4; stroke-opacity:1; fill:none\" points=\"\n",
       "  533.957,1503.47 533.957,47.2441 \n",
       "  \"/>\n",
       "<polyline clip-path=\"url(#clip4201)\" style=\"stroke:#000000; stroke-width:4; stroke-opacity:1; fill:none\" points=\"\n",
       "  533.957,1503.47 533.957,1481.63 \n",
       "  \"/>\n",
       "<polyline clip-path=\"url(#clip4201)\" style=\"stroke:#000000; stroke-width:4; stroke-opacity:1; fill:none\" points=\"\n",
       "  825.203,1503.47 825.203,1481.63 \n",
       "  \"/>\n",
       "<polyline clip-path=\"url(#clip4201)\" style=\"stroke:#000000; stroke-width:4; stroke-opacity:1; fill:none\" points=\"\n",
       "  1116.45,1503.47 1116.45,1481.63 \n",
       "  \"/>\n",
       "<polyline clip-path=\"url(#clip4201)\" style=\"stroke:#000000; stroke-width:4; stroke-opacity:1; fill:none\" points=\"\n",
       "  1407.7,1503.47 1407.7,1481.63 \n",
       "  \"/>\n",
       "<polyline clip-path=\"url(#clip4201)\" style=\"stroke:#000000; stroke-width:4; stroke-opacity:1; fill:none\" points=\"\n",
       "  1698.94,1503.47 1698.94,1481.63 \n",
       "  \"/>\n",
       "<polyline clip-path=\"url(#clip4201)\" style=\"stroke:#000000; stroke-width:4; stroke-opacity:1; fill:none\" points=\"\n",
       "  1990.19,1503.47 1990.19,1481.63 \n",
       "  \"/>\n",
       "<polyline clip-path=\"url(#clip4201)\" style=\"stroke:#000000; stroke-width:4; stroke-opacity:1; fill:none\" points=\"\n",
       "  533.957,1503.47 555.801,1503.47 \n",
       "  \"/>\n",
       "<polyline clip-path=\"url(#clip4201)\" style=\"stroke:#000000; stroke-width:4; stroke-opacity:1; fill:none\" points=\"\n",
       "  533.957,1212.23 555.801,1212.23 \n",
       "  \"/>\n",
       "<polyline clip-path=\"url(#clip4201)\" style=\"stroke:#000000; stroke-width:4; stroke-opacity:1; fill:none\" points=\"\n",
       "  533.957,920.982 555.801,920.982 \n",
       "  \"/>\n",
       "<polyline clip-path=\"url(#clip4201)\" style=\"stroke:#000000; stroke-width:4; stroke-opacity:1; fill:none\" points=\"\n",
       "  533.957,629.736 555.801,629.736 \n",
       "  \"/>\n",
       "<polyline clip-path=\"url(#clip4201)\" style=\"stroke:#000000; stroke-width:4; stroke-opacity:1; fill:none\" points=\"\n",
       "  533.957,338.49 555.801,338.49 \n",
       "  \"/>\n",
       "<polyline clip-path=\"url(#clip4201)\" style=\"stroke:#000000; stroke-width:4; stroke-opacity:1; fill:none\" points=\"\n",
       "  533.957,47.2441 555.801,47.2441 \n",
       "  \"/>\n",
       "<g clip-path=\"url(#clip4201)\">\n",
       "<text style=\"fill:#000000; fill-opacity:1; font-family:Arial,Helvetica Neue,Helvetica,sans-serif; font-size:48px; text-anchor:middle;\" transform=\"rotate(0, 533.957, 1557.47)\" x=\"533.957\" y=\"1557.47\">0</text>\n",
       "</g>\n",
       "<g clip-path=\"url(#clip4201)\">\n",
       "<text style=\"fill:#000000; fill-opacity:1; font-family:Arial,Helvetica Neue,Helvetica,sans-serif; font-size:48px; text-anchor:middle;\" transform=\"rotate(0, 825.203, 1557.47)\" x=\"825.203\" y=\"1557.47\">20</text>\n",
       "</g>\n",
       "<g clip-path=\"url(#clip4201)\">\n",
       "<text style=\"fill:#000000; fill-opacity:1; font-family:Arial,Helvetica Neue,Helvetica,sans-serif; font-size:48px; text-anchor:middle;\" transform=\"rotate(0, 1116.45, 1557.47)\" x=\"1116.45\" y=\"1557.47\">40</text>\n",
       "</g>\n",
       "<g clip-path=\"url(#clip4201)\">\n",
       "<text style=\"fill:#000000; fill-opacity:1; font-family:Arial,Helvetica Neue,Helvetica,sans-serif; font-size:48px; text-anchor:middle;\" transform=\"rotate(0, 1407.7, 1557.47)\" x=\"1407.7\" y=\"1557.47\">60</text>\n",
       "</g>\n",
       "<g clip-path=\"url(#clip4201)\">\n",
       "<text style=\"fill:#000000; fill-opacity:1; font-family:Arial,Helvetica Neue,Helvetica,sans-serif; font-size:48px; text-anchor:middle;\" transform=\"rotate(0, 1698.94, 1557.47)\" x=\"1698.94\" y=\"1557.47\">80</text>\n",
       "</g>\n",
       "<g clip-path=\"url(#clip4201)\">\n",
       "<text style=\"fill:#000000; fill-opacity:1; font-family:Arial,Helvetica Neue,Helvetica,sans-serif; font-size:48px; text-anchor:middle;\" transform=\"rotate(0, 1990.19, 1557.47)\" x=\"1990.19\" y=\"1557.47\">100</text>\n",
       "</g>\n",
       "<g clip-path=\"url(#clip4201)\">\n",
       "<text style=\"fill:#000000; fill-opacity:1; font-family:Arial,Helvetica Neue,Helvetica,sans-serif; font-size:48px; text-anchor:end;\" transform=\"rotate(0, 509.957, 1520.97)\" x=\"509.957\" y=\"1520.97\">-100</text>\n",
       "</g>\n",
       "<g clip-path=\"url(#clip4201)\">\n",
       "<text style=\"fill:#000000; fill-opacity:1; font-family:Arial,Helvetica Neue,Helvetica,sans-serif; font-size:48px; text-anchor:end;\" transform=\"rotate(0, 509.957, 1229.73)\" x=\"509.957\" y=\"1229.73\">-80</text>\n",
       "</g>\n",
       "<g clip-path=\"url(#clip4201)\">\n",
       "<text style=\"fill:#000000; fill-opacity:1; font-family:Arial,Helvetica Neue,Helvetica,sans-serif; font-size:48px; text-anchor:end;\" transform=\"rotate(0, 509.957, 938.482)\" x=\"509.957\" y=\"938.482\">-60</text>\n",
       "</g>\n",
       "<g clip-path=\"url(#clip4201)\">\n",
       "<text style=\"fill:#000000; fill-opacity:1; font-family:Arial,Helvetica Neue,Helvetica,sans-serif; font-size:48px; text-anchor:end;\" transform=\"rotate(0, 509.957, 647.236)\" x=\"509.957\" y=\"647.236\">-40</text>\n",
       "</g>\n",
       "<g clip-path=\"url(#clip4201)\">\n",
       "<text style=\"fill:#000000; fill-opacity:1; font-family:Arial,Helvetica Neue,Helvetica,sans-serif; font-size:48px; text-anchor:end;\" transform=\"rotate(0, 509.957, 355.99)\" x=\"509.957\" y=\"355.99\">-20</text>\n",
       "</g>\n",
       "<g clip-path=\"url(#clip4201)\">\n",
       "<text style=\"fill:#000000; fill-opacity:1; font-family:Arial,Helvetica Neue,Helvetica,sans-serif; font-size:48px; text-anchor:end;\" transform=\"rotate(0, 509.957, 64.7441)\" x=\"509.957\" y=\"64.7441\">0</text>\n",
       "</g>\n",
       "<circle clip-path=\"url(#clip4203)\" style=\"fill:#000000; stroke:none; fill-opacity:1\" cx=\"1262.07\" cy=\"593.331\" r=\"18\"/>\n",
       "<circle clip-path=\"url(#clip4203)\" style=\"fill:#009af9; stroke:none; fill-opacity:1\" cx=\"1262.07\" cy=\"593.331\" r=\"14\"/>\n",
       "<circle clip-path=\"url(#clip4203)\" style=\"fill:#000000; stroke:none; fill-opacity:1\" cx=\"1444.1\" cy=\"593.331\" r=\"18\"/>\n",
       "<circle clip-path=\"url(#clip4203)\" style=\"fill:#009af9; stroke:none; fill-opacity:1\" cx=\"1444.1\" cy=\"593.331\" r=\"14\"/>\n",
       "<circle clip-path=\"url(#clip4203)\" style=\"fill:#000000; stroke:none; fill-opacity:1\" cx=\"1626.13\" cy=\"593.331\" r=\"18\"/>\n",
       "<circle clip-path=\"url(#clip4203)\" style=\"fill:#009af9; stroke:none; fill-opacity:1\" cx=\"1626.13\" cy=\"593.331\" r=\"14\"/>\n",
       "<circle clip-path=\"url(#clip4203)\" style=\"fill:#000000; stroke:none; fill-opacity:1\" cx=\"1808.16\" cy=\"593.331\" r=\"18\"/>\n",
       "<circle clip-path=\"url(#clip4203)\" style=\"fill:#009af9; stroke:none; fill-opacity:1\" cx=\"1808.16\" cy=\"593.331\" r=\"14\"/>\n",
       "<circle clip-path=\"url(#clip4203)\" style=\"fill:#000000; stroke:none; fill-opacity:1\" cx=\"1262.07\" cy=\"775.359\" r=\"18\"/>\n",
       "<circle clip-path=\"url(#clip4203)\" style=\"fill:#009af9; stroke:none; fill-opacity:1\" cx=\"1262.07\" cy=\"775.359\" r=\"14\"/>\n",
       "<circle clip-path=\"url(#clip4203)\" style=\"fill:#000000; stroke:none; fill-opacity:1\" cx=\"1444.1\" cy=\"775.359\" r=\"18\"/>\n",
       "<circle clip-path=\"url(#clip4203)\" style=\"fill:#009af9; stroke:none; fill-opacity:1\" cx=\"1444.1\" cy=\"775.359\" r=\"14\"/>\n",
       "<circle clip-path=\"url(#clip4203)\" style=\"fill:#000000; stroke:none; fill-opacity:1\" cx=\"1626.13\" cy=\"775.359\" r=\"18\"/>\n",
       "<circle clip-path=\"url(#clip4203)\" style=\"fill:#009af9; stroke:none; fill-opacity:1\" cx=\"1626.13\" cy=\"775.359\" r=\"14\"/>\n",
       "<circle clip-path=\"url(#clip4203)\" style=\"fill:#000000; stroke:none; fill-opacity:1\" cx=\"1808.16\" cy=\"775.359\" r=\"18\"/>\n",
       "<circle clip-path=\"url(#clip4203)\" style=\"fill:#009af9; stroke:none; fill-opacity:1\" cx=\"1808.16\" cy=\"775.359\" r=\"14\"/>\n",
       "<circle clip-path=\"url(#clip4203)\" style=\"fill:#000000; stroke:none; fill-opacity:1\" cx=\"1181.17\" cy=\"532.654\" r=\"18\"/>\n",
       "<circle clip-path=\"url(#clip4203)\" style=\"fill:#e26f46; stroke:none; fill-opacity:1\" cx=\"1181.17\" cy=\"532.654\" r=\"14\"/>\n",
       "<circle clip-path=\"url(#clip4203)\" style=\"fill:#000000; stroke:none; fill-opacity:1\" cx=\"1342.97\" cy=\"532.654\" r=\"18\"/>\n",
       "<circle clip-path=\"url(#clip4203)\" style=\"fill:#e26f46; stroke:none; fill-opacity:1\" cx=\"1342.97\" cy=\"532.654\" r=\"14\"/>\n",
       "<circle clip-path=\"url(#clip4203)\" style=\"fill:#000000; stroke:none; fill-opacity:1\" cx=\"1504.78\" cy=\"532.654\" r=\"18\"/>\n",
       "<circle clip-path=\"url(#clip4203)\" style=\"fill:#e26f46; stroke:none; fill-opacity:1\" cx=\"1504.78\" cy=\"532.654\" r=\"14\"/>\n",
       "<circle clip-path=\"url(#clip4203)\" style=\"fill:#000000; stroke:none; fill-opacity:1\" cx=\"1666.58\" cy=\"532.654\" r=\"18\"/>\n",
       "<circle clip-path=\"url(#clip4203)\" style=\"fill:#e26f46; stroke:none; fill-opacity:1\" cx=\"1666.58\" cy=\"532.654\" r=\"14\"/>\n",
       "<circle clip-path=\"url(#clip4203)\" style=\"fill:#000000; stroke:none; fill-opacity:1\" cx=\"1181.17\" cy=\"694.458\" r=\"18\"/>\n",
       "<circle clip-path=\"url(#clip4203)\" style=\"fill:#e26f46; stroke:none; fill-opacity:1\" cx=\"1181.17\" cy=\"694.458\" r=\"14\"/>\n",
       "<circle clip-path=\"url(#clip4203)\" style=\"fill:#000000; stroke:none; fill-opacity:1\" cx=\"1342.97\" cy=\"694.458\" r=\"18\"/>\n",
       "<circle clip-path=\"url(#clip4203)\" style=\"fill:#e26f46; stroke:none; fill-opacity:1\" cx=\"1342.97\" cy=\"694.458\" r=\"14\"/>\n",
       "<circle clip-path=\"url(#clip4203)\" style=\"fill:#000000; stroke:none; fill-opacity:1\" cx=\"1504.78\" cy=\"694.458\" r=\"18\"/>\n",
       "<circle clip-path=\"url(#clip4203)\" style=\"fill:#e26f46; stroke:none; fill-opacity:1\" cx=\"1504.78\" cy=\"694.458\" r=\"14\"/>\n",
       "<circle clip-path=\"url(#clip4203)\" style=\"fill:#000000; stroke:none; fill-opacity:1\" cx=\"1666.58\" cy=\"694.458\" r=\"18\"/>\n",
       "<circle clip-path=\"url(#clip4203)\" style=\"fill:#e26f46; stroke:none; fill-opacity:1\" cx=\"1666.58\" cy=\"694.458\" r=\"14\"/>\n",
       "<circle clip-path=\"url(#clip4203)\" style=\"fill:#000000; stroke:none; fill-opacity:1\" cx=\"1116.45\" cy=\"484.113\" r=\"18\"/>\n",
       "<circle clip-path=\"url(#clip4203)\" style=\"fill:#3da44d; stroke:none; fill-opacity:1\" cx=\"1116.45\" cy=\"484.113\" r=\"14\"/>\n",
       "<circle clip-path=\"url(#clip4203)\" style=\"fill:#000000; stroke:none; fill-opacity:1\" cx=\"1262.07\" cy=\"484.113\" r=\"18\"/>\n",
       "<circle clip-path=\"url(#clip4203)\" style=\"fill:#3da44d; stroke:none; fill-opacity:1\" cx=\"1262.07\" cy=\"484.113\" r=\"14\"/>\n",
       "<circle clip-path=\"url(#clip4203)\" style=\"fill:#000000; stroke:none; fill-opacity:1\" cx=\"1407.7\" cy=\"484.113\" r=\"18\"/>\n",
       "<circle clip-path=\"url(#clip4203)\" style=\"fill:#3da44d; stroke:none; fill-opacity:1\" cx=\"1407.7\" cy=\"484.113\" r=\"14\"/>\n",
       "<circle clip-path=\"url(#clip4203)\" style=\"fill:#000000; stroke:none; fill-opacity:1\" cx=\"1553.32\" cy=\"484.113\" r=\"18\"/>\n",
       "<circle clip-path=\"url(#clip4203)\" style=\"fill:#3da44d; stroke:none; fill-opacity:1\" cx=\"1553.32\" cy=\"484.113\" r=\"14\"/>\n",
       "<circle clip-path=\"url(#clip4203)\" style=\"fill:#000000; stroke:none; fill-opacity:1\" cx=\"1116.45\" cy=\"629.736\" r=\"18\"/>\n",
       "<circle clip-path=\"url(#clip4203)\" style=\"fill:#3da44d; stroke:none; fill-opacity:1\" cx=\"1116.45\" cy=\"629.736\" r=\"14\"/>\n",
       "<circle clip-path=\"url(#clip4203)\" style=\"fill:#000000; stroke:none; fill-opacity:1\" cx=\"1262.07\" cy=\"629.736\" r=\"18\"/>\n",
       "<circle clip-path=\"url(#clip4203)\" style=\"fill:#3da44d; stroke:none; fill-opacity:1\" cx=\"1262.07\" cy=\"629.736\" r=\"14\"/>\n",
       "<circle clip-path=\"url(#clip4203)\" style=\"fill:#000000; stroke:none; fill-opacity:1\" cx=\"1407.7\" cy=\"629.736\" r=\"18\"/>\n",
       "<circle clip-path=\"url(#clip4203)\" style=\"fill:#3da44d; stroke:none; fill-opacity:1\" cx=\"1407.7\" cy=\"629.736\" r=\"14\"/>\n",
       "<circle clip-path=\"url(#clip4203)\" style=\"fill:#000000; stroke:none; fill-opacity:1\" cx=\"1553.32\" cy=\"629.736\" r=\"18\"/>\n",
       "<circle clip-path=\"url(#clip4203)\" style=\"fill:#3da44d; stroke:none; fill-opacity:1\" cx=\"1553.32\" cy=\"629.736\" r=\"14\"/>\n",
       "<polygon clip-path=\"url(#clip4201)\" points=\"\n",
       "1627.36,372.684 1918.19,372.684 1918.19,130.764 1627.36,130.764 \n",
       "  \" fill=\"#ffffff\" fill-rule=\"evenodd\" fill-opacity=\"1\"/>\n",
       "<polyline clip-path=\"url(#clip4201)\" style=\"stroke:#000000; stroke-width:4; stroke-opacity:1; fill:none\" points=\"\n",
       "  1627.36,372.684 1918.19,372.684 1918.19,130.764 1627.36,130.764 1627.36,372.684 \n",
       "  \"/>\n",
       "<circle clip-path=\"url(#clip4201)\" style=\"fill:#000000; stroke:none; fill-opacity:1\" cx=\"1735.36\" cy=\"191.244\" r=\"25\"/>\n",
       "<circle clip-path=\"url(#clip4201)\" style=\"fill:#009af9; stroke:none; fill-opacity:1\" cx=\"1735.36\" cy=\"191.244\" r=\"21\"/>\n",
       "<g clip-path=\"url(#clip4201)\">\n",
       "<text style=\"fill:#000000; fill-opacity:1; font-family:Arial,Helvetica Neue,Helvetica,sans-serif; font-size:48px; text-anchor:start;\" transform=\"rotate(0, 1819.36, 208.744)\" x=\"1819.36\" y=\"208.744\">y1</text>\n",
       "</g>\n",
       "<circle clip-path=\"url(#clip4201)\" style=\"fill:#000000; stroke:none; fill-opacity:1\" cx=\"1735.36\" cy=\"251.724\" r=\"25\"/>\n",
       "<circle clip-path=\"url(#clip4201)\" style=\"fill:#e26f46; stroke:none; fill-opacity:1\" cx=\"1735.36\" cy=\"251.724\" r=\"21\"/>\n",
       "<g clip-path=\"url(#clip4201)\">\n",
       "<text style=\"fill:#000000; fill-opacity:1; font-family:Arial,Helvetica Neue,Helvetica,sans-serif; font-size:48px; text-anchor:start;\" transform=\"rotate(0, 1819.36, 269.224)\" x=\"1819.36\" y=\"269.224\">y2</text>\n",
       "</g>\n",
       "<circle clip-path=\"url(#clip4201)\" style=\"fill:#000000; stroke:none; fill-opacity:1\" cx=\"1735.36\" cy=\"312.204\" r=\"25\"/>\n",
       "<circle clip-path=\"url(#clip4201)\" style=\"fill:#3da44d; stroke:none; fill-opacity:1\" cx=\"1735.36\" cy=\"312.204\" r=\"21\"/>\n",
       "<g clip-path=\"url(#clip4201)\">\n",
       "<text style=\"fill:#000000; fill-opacity:1; font-family:Arial,Helvetica Neue,Helvetica,sans-serif; font-size:48px; text-anchor:start;\" transform=\"rotate(0, 1819.36, 329.704)\" x=\"1819.36\" y=\"329.704\">y3</text>\n",
       "</g>\n",
       "</svg>\n"
      ]
     },
     "execution_count": 26,
     "metadata": {},
     "output_type": "execute_result"
    }
   ],
   "source": [
    "using Plots\n",
    "\n",
    "scatter(Q[1,1:8], -Q[2,1:8], xlims=(0, 100), ylims=(-100,0),aspect_ratio=:equal)\n",
    "scatter!(Q[1,9:16], -Q[2,9:16], xlims=(0, 100), ylims=(-100,0),aspect_ratio=:equal)\n",
    "scatter!(Q[1,17:24], -Q[2,17:24], xlims=(0, 100), ylims=(-100,0),aspect_ratio=:equal)"
   ]
  },
  {
   "cell_type": "code",
   "execution_count": null,
   "metadata": {},
   "outputs": [],
   "source": []
  }
 ],
 "metadata": {
  "kernelspec": {
   "display_name": "Julia 1.0.3",
   "language": "julia",
   "name": "julia-1.0"
  },
  "language_info": {
   "file_extension": ".jl",
   "mimetype": "application/julia",
   "name": "julia",
   "version": "1.0.3"
  }
 },
 "nbformat": 4,
 "nbformat_minor": 2
}

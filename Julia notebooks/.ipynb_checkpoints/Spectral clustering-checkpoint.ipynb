{
 "cells": [
  {
   "cell_type": "code",
   "execution_count": 55,
   "metadata": {},
   "outputs": [
    {
     "name": "stderr",
     "output_type": "stream",
     "text": [
      "┌ Warning: `head(df::AbstractDataFrame)` is deprecated, use `first(df, 6)` instead.\n",
      "│   caller = top-level scope at In[55]:4\n",
      "└ @ Core In[55]:4\n"
     ]
    },
    {
     "data": {
      "text/plain": [
       "150×150 Array{Float64,2}:\n",
       "  0.665685   0.0        0.0        0.0       …   0.0       0.0       0.0     \n",
       "  0.0        0.821076   0.0        0.0           0.0       0.0       0.0     \n",
       "  0.0        0.0        1.1801    -0.244949      0.0       0.0       0.0     \n",
       "  0.0        0.0       -0.244949   1.31233       0.0       0.0       0.0     \n",
       " -0.141421   0.0        0.0        0.0           0.0       0.0       0.0     \n",
       "  0.0        0.0        0.0        0.0       …   0.0       0.0       0.0     \n",
       "  0.0        0.0       -0.264575   0.0           0.0       0.0       0.0     \n",
       " -0.173205   0.0        0.0        0.0           0.0       0.0       0.0     \n",
       "  0.0        0.0        0.0       -0.3           0.0       0.0       0.0     \n",
       "  0.0       -0.173205   0.0        0.0           0.0       0.0       0.0     \n",
       "  0.0        0.0        0.0        0.0       …   0.0       0.0       0.0     \n",
       "  0.0        0.0        0.0        0.0           0.0       0.0       0.0     \n",
       "  0.0       -0.141421   0.0        0.0           0.0       0.0       0.0     \n",
       "  ⋮                                          ⋱                               \n",
       "  0.0        0.0        0.0        0.0           0.0       0.0      -0.316228\n",
       "  0.0        0.0        0.0        0.0           0.0       0.0       0.0     \n",
       "  0.0        0.0        0.0        0.0       …   0.0       0.0       0.0     \n",
       "  0.0        0.0        0.0        0.0          -0.519615  0.0       0.0     \n",
       "  0.0        0.0        0.0        0.0           0.0       0.0      -0.331662\n",
       "  0.0        0.0        0.0        0.0           0.0       0.0       0.0     \n",
       "  0.0        0.0        0.0        0.0           0.0       0.0       0.0     \n",
       "  0.0        0.0        0.0        0.0       …  -0.360555  0.0       0.0     \n",
       "  0.0        0.0        0.0        0.0           0.0       0.0       0.0     \n",
       "  0.0        0.0        0.0        0.0           2.06572   0.0       0.0     \n",
       "  0.0        0.0        0.0        0.0          -0.616441  2.34267   0.0     \n",
       "  0.0        0.0        0.0        0.0           0.0       0.0       1.62295 "
      ]
     },
     "execution_count": 55,
     "metadata": {},
     "output_type": "execute_result"
    }
   ],
   "source": [
    "using RDatasets\n",
    "using DataFrames\n",
    "iris = dataset(\"datasets\", \"iris\")\n",
    "head(iris)\n",
    "k = 5\n",
    "P = zeros(150,150)\n",
    "P_sorted = zeros(150,5)\n",
    "D = zeros(150,150)\n",
    "iris = convert(Matrix,iris)\n",
    "iris = iris[:,1:4]\n",
    "for i = 1:150\n",
    "    for j = 1:150\n",
    "        sum = 0\n",
    "        for k in 1:4\n",
    "            sum += (iris[i,k]-iris[j,k])^2\n",
    "            #println(\"Hello\")\n",
    "        end\n",
    "        P[i,j]= sqrt(sum)\n",
    "    end\n",
    "end\n",
    "\n",
    "for i = 1:150\n",
    "    P_sorted[i,:] = sort(P[i,:])[2:6]  \n",
    "end\n",
    "P_sorted\n",
    "for i = 1:150\n",
    "    for j = 1:150\n",
    "        count = 0\n",
    "        if P[i,j] in P_sorted[i,:]\n",
    "            count += 1\n",
    "        else\n",
    "            P[i,j] = 0\n",
    "        end\n",
    "        if count == 5\n",
    "            break\n",
    "        end\n",
    "    end\n",
    "end\n",
    "P\n",
    "for i in 1:150\n",
    "    D[i,i] = sum(P[i,:])\n",
    "end\n",
    "L = D - P\n",
    "#rand([0, 1], 5, 5)"
   ]
  },
  {
   "cell_type": "code",
   "execution_count": null,
   "metadata": {},
   "outputs": [],
   "source": []
  }
 ],
 "metadata": {
  "kernelspec": {
   "display_name": "Julia 1.2.0",
   "language": "julia",
   "name": "julia-1.2"
  },
  "language_info": {
   "file_extension": ".jl",
   "mimetype": "application/julia",
   "name": "julia",
   "version": "1.2.0"
  }
 },
 "nbformat": 4,
 "nbformat_minor": 2
}
